{
 "cells": [
  {
   "cell_type": "markdown",
   "id": "e97a8d6feb1625b2",
   "metadata": {},
   "source": [
    "# Analysing the Effect of Longitude and Latitude on European Inflation Dynamics\n",
    "\n",
    "Liam Kane, Valentin Leuthard, Panagiotis Patsias, & Liam Tessendorf "
   ]
  },
  {
   "cell_type": "markdown",
   "id": "bfad24ba6e205c73",
   "metadata": {},
   "source": [
    "## Abstract\n",
    "\n",
    "This project analyzes European inflation dynamics with a focus on the effects of longitude and latitude on inflation rates. By examining spatial patterns across different countries, the study aims to uncover how geographic location influences economic indicators within Europe. Utilizing data visualization and statistical modeling, the project provides insights into regional inflation trends and their relationship with geographical coordinates."
   ]
  },
  {
   "cell_type": "markdown",
   "id": "5fc4b2f010da7234",
   "metadata": {},
   "source": [
    "## Prelims"
   ]
  },
  {
   "cell_type": "code",
   "execution_count": 85,
   "id": "initial_id",
   "metadata": {
    "ExecuteTime": {
     "end_time": "2024-11-26T16:56:57.877733Z",
     "start_time": "2024-11-26T16:56:57.445405Z"
    },
    "collapsed": true
   },
   "outputs": [],
   "source": [
    "import pandas as pd\n",
    "import matplotlib.pyplot as plt\n",
    "import numpy as np\n",
    "from statsmodels.formula.api import ols\n",
    "import seaborn as sns\n",
    "import ipywidgets as widgets\n",
    "from IPython.display import display, clear_output\n",
    "import plotly.graph_objects as go\n",
    "import plotly.io as pio\n",
    "\n",
    "pio.renderers.default = \"notebook\""
   ]
  },
  {
   "cell_type": "markdown",
   "id": "e5f48c40748262a0",
   "metadata": {},
   "source": [
    "## Data\n",
    "\n",
    "For our analysis we used data on European Inflation rates from the [Organisation for Economic Co-operation and Development](https://data-explorer.oecd.org/vis?tm=inflation&pg=0&snb=50&vw=tb&df%5Bds%5D=dsDisseminateFinalDMZ&df%5Bid%5D=DSD_PRICES%40DF_PRICES_HICP&df%5Bag%5D=OECD.SDD.TPS&df%5Bvs%5D=1.0&dq=HRV%2BBGR%2BTUR%2BGBR%2BCHE%2BSVN%2BSWE%2BESP%2BSVK%2BPRT%2BPOL%2BNOR%2BNLD%2BLUX%2BLTU%2BLVA%2BIRL%2BITA%2BISL%2BHUN%2BGRC%2BDEU%2BFRA%2BFIN%2BEST%2BDNK%2BBEL%2BCZE%2BAUT.M.HICP.CPI.PA._T.N.GY&to%5BTIME_PERIOD%5D=false&pd=2000-01%2C2024-10). It contains Inflation data of 29 European countries. For most countries, there is data from 2000 until September 2024, but for some, such as Switzerland, there is less. For this reason, we removed the missing timeperiods for all countries which results in a dataset of inflation rates from December 2005 until September 2024. For more insights into this data source, please see [0.02-lte-oced-european-inflation-rates-1.ipynb](./notebooks/0.02-lte-oced-european-inflation-rates-1.ipynb). \n",
    "\n",
    "For the longitude and latitude data, we used Googles [countries.csv](https://developers.google.com/public-data/docs/canonical/countries_csv). It provides longitude and latitude data for all countries. While processing this dataset we remove all countries that are not in europe, and thus not of interest.\n",
    "\n",
    "In order to run this notebook interactively, please run the `make data` command in the command line while situated in the root directory of this project, if not already done. This will download all requirements and create the processed data from the external data. Then we are ready to read the processed files."
   ]
  },
  {
   "cell_type": "code",
   "execution_count": 86,
   "id": "1ee6ce002d240cc7",
   "metadata": {
    "ExecuteTime": {
     "end_time": "2024-11-26T16:54:07.127026Z",
     "start_time": "2024-11-26T16:54:07.118848Z"
    }
   },
   "outputs": [],
   "source": [
    "df_inflation = pd.read_feather(\"../data/processed/inflation-data-clean.ftr\")\n",
    "df_long_lat = pd.read_feather(\"../data/processed/countries-with-long-lat-data.ftr\")"
   ]
  },
  {
   "cell_type": "markdown",
   "id": "5044a65dbfbc89a5",
   "metadata": {},
   "source": [
    "The below cell allows you to choose a country for which you want to see the timeseries of the inflation rates."
   ]
  },
  {
   "cell_type": "code",
   "execution_count": 87,
   "id": "9160b0ad021fdca5",
   "metadata": {
    "ExecuteTime": {
     "end_time": "2024-11-26T16:54:07.306561Z",
     "start_time": "2024-11-26T16:54:07.204097Z"
    }
   },
   "outputs": [
    {
     "data": {
      "application/vnd.jupyter.widget-view+json": {
       "model_id": "a49d12c8306142d0b488fcc301a74303",
       "version_major": 2,
       "version_minor": 0
      },
      "text/plain": [
       "Dropdown(description='Country:', options=('Italy', 'Slovenia', 'Switzerland', 'Croatia', 'Lithuania', 'Finland…"
      ]
     },
     "metadata": {},
     "output_type": "display_data"
    },
    {
     "data": {
      "application/vnd.jupyter.widget-view+json": {
       "model_id": "efd44719ef15488b87ae379e29293891",
       "version_major": 2,
       "version_minor": 0
      },
      "text/plain": [
       "IntRangeSlider(value=(2005, 2024), continuous_update=False, description='Year Range:', max=2024, min=2005)"
      ]
     },
     "metadata": {},
     "output_type": "display_data"
    },
    {
     "data": {
      "application/vnd.jupyter.widget-view+json": {
       "model_id": "ebad7bf9742649a78244a4bf01956ab6",
       "version_major": 2,
       "version_minor": 0
      },
      "text/plain": [
       "Output()"
      ]
     },
     "metadata": {},
     "output_type": "display_data"
    }
   ],
   "source": [
    "df_inflation[\"TIME_PERIOD\"] = pd.to_datetime(df_inflation[\"TIME_PERIOD\"], format=\"%Y-%m\")\n",
    "\n",
    "df_inflation[\"Year\"] = df_inflation[\"TIME_PERIOD\"].dt.year\n",
    "\n",
    "df_inflation.sort_values(by=\"TIME_PERIOD\", inplace=True)\n",
    "\n",
    "min_year = df_inflation[\"Year\"].min()\n",
    "max_year = df_inflation[\"Year\"].max()\n",
    "\n",
    "country_dropdown = widgets.Dropdown(\n",
    "    options=df_inflation[\"Reference area\"].unique(),\n",
    "    description=\"Country:\",\n",
    "    value=df_inflation[\"Reference area\"].unique()[0],\n",
    ")\n",
    "\n",
    "year_slider = widgets.IntRangeSlider(\n",
    "    value=[min_year, max_year],\n",
    "    min=min_year,\n",
    "    max=max_year,\n",
    "    step=1,\n",
    "    description=\"Year Range:\",\n",
    "    continuous_update=False,\n",
    "    orientation=\"horizontal\",\n",
    "    readout=True,\n",
    "    readout_format=\"d\",\n",
    ")\n",
    "\n",
    "output = widgets.Output()\n",
    "\n",
    "\n",
    "def update_plot(change):\n",
    "    with output:\n",
    "        clear_output(wait=True)\n",
    "        selected_country = country_dropdown.value\n",
    "        start_year, end_year = year_slider.value\n",
    "        country_data = df_inflation[\n",
    "            (df_inflation[\"Reference area\"] == selected_country)\n",
    "            & (df_inflation[\"Year\"] >= start_year)\n",
    "            & (df_inflation[\"Year\"] <= end_year)\n",
    "        ]\n",
    "        if country_data.empty:\n",
    "            print(\"No data available for the selected country and year range.\")\n",
    "        else:\n",
    "            plt.figure(figsize=(10, 5))\n",
    "            plt.plot(country_data[\"TIME_PERIOD\"], country_data[\"OBS_VALUE\"], marker=\"o\")\n",
    "            plt.title(\n",
    "                f\"Inflation Rate Time Series for {selected_country} ({start_year}-{end_year})\"\n",
    "            )\n",
    "            plt.xlabel(\"Time Period\")\n",
    "            plt.ylabel(\"Inflation Rate (%)\")\n",
    "            plt.grid(True)\n",
    "            plt.show()\n",
    "\n",
    "\n",
    "country_dropdown.observe(update_plot, names=\"value\")\n",
    "year_slider.observe(update_plot, names=\"value\")\n",
    "\n",
    "display(country_dropdown, year_slider, output)\n",
    "\n",
    "update_plot(None)"
   ]
  },
  {
   "cell_type": "markdown",
   "id": "7d63b51045311e8a",
   "metadata": {},
   "source": [
    "## Feature Engineering\n",
    "\n",
    "We will calculate the mean inflation rate per country for our analysis and merge it with the longitude-latitude dataframe."
   ]
  },
  {
   "cell_type": "code",
   "execution_count": 88,
   "id": "ad264ebb974f83a8",
   "metadata": {
    "ExecuteTime": {
     "end_time": "2024-11-26T16:54:07.316826Z",
     "start_time": "2024-11-26T16:54:07.312553Z"
    }
   },
   "outputs": [],
   "source": [
    "df_inflation_aggregated = (\n",
    "    df_inflation.groupby(\"Reference area\").agg({\"OBS_VALUE\": \"mean\"}).reset_index()\n",
    ")\n",
    "df_inflation_aggregated.rename(columns={\"Reference area\": \"name\"}, inplace=True)\n",
    "\n",
    "df_merged = pd.merge(df_inflation_aggregated, df_long_lat, on=\"name\", how=\"inner\")"
   ]
  },
  {
   "cell_type": "markdown",
   "id": "ffbeebd201bc61a",
   "metadata": {},
   "source": [
    "## Results\n",
    "\n",
    "### Linear Regression\n",
    "\n",
    "To see if longitude and latitude have an effect on the inflation rate of european countries, we run three linear regressions: \n",
    "\n",
    "1. Regression of inflation rate on latitude\n",
    "2. Regression of inflation rate on longitude\n",
    "3. Regression of inflation rate on longitude and latitude"
   ]
  },
  {
   "cell_type": "code",
   "execution_count": 89,
   "id": "696c471cde414261",
   "metadata": {
    "ExecuteTime": {
     "end_time": "2024-11-26T16:54:07.331501Z",
     "start_time": "2024-11-26T16:54:07.322878Z"
    }
   },
   "outputs": [
    {
     "name": "stdout",
     "output_type": "stream",
     "text": [
      "                            OLS Regression Results                            \n",
      "==============================================================================\n",
      "Dep. Variable:              OBS_VALUE   R-squared:                       0.034\n",
      "Model:                            OLS   Adj. R-squared:                 -0.002\n",
      "Method:                 Least Squares   F-statistic:                    0.9382\n",
      "Date:                Tue, 03 Dec 2024   Prob (F-statistic):              0.341\n",
      "Time:                        15:40:02   Log-Likelihood:                -72.182\n",
      "No. Observations:                  29   AIC:                             148.4\n",
      "Df Residuals:                      27   BIC:                             151.1\n",
      "Df Model:                           1                                         \n",
      "Covariance Type:            nonrobust                                         \n",
      "==============================================================================\n",
      "                 coef    std err          t      P>|t|      [0.025      0.975]\n",
      "------------------------------------------------------------------------------\n",
      "Intercept      7.1080      4.023      1.767      0.089      -1.146      15.362\n",
      "latitude      -0.0767      0.079     -0.969      0.341      -0.239       0.086\n",
      "==============================================================================\n",
      "Omnibus:                       53.462   Durbin-Watson:                   2.290\n",
      "Prob(Omnibus):                  0.000   Jarque-Bera (JB):              336.033\n",
      "Skew:                           3.676   Prob(JB):                     1.07e-73\n",
      "Kurtosis:                      17.968   Cond. No.                         364.\n",
      "==============================================================================\n",
      "\n",
      "Notes:\n",
      "[1] Standard Errors assume that the covariance matrix of the errors is correctly specified.\n"
     ]
    }
   ],
   "source": [
    "lm_lat = ols(\"OBS_VALUE ~ latitude\", data=df_merged).fit()\n",
    "print(lm_lat.summary())"
   ]
  },
  {
   "cell_type": "code",
   "execution_count": 90,
   "id": "b5545317c2b2ba68",
   "metadata": {
    "ExecuteTime": {
     "end_time": "2024-11-26T16:54:07.346097Z",
     "start_time": "2024-11-26T16:54:07.337960Z"
    }
   },
   "outputs": [
    {
     "name": "stdout",
     "output_type": "stream",
     "text": [
      "                            OLS Regression Results                            \n",
      "==============================================================================\n",
      "Dep. Variable:              OBS_VALUE   R-squared:                       0.188\n",
      "Model:                            OLS   Adj. R-squared:                  0.158\n",
      "Method:                 Least Squares   F-statistic:                     6.255\n",
      "Date:                Tue, 03 Dec 2024   Prob (F-statistic):             0.0188\n",
      "Time:                        15:40:02   Log-Likelihood:                -69.656\n",
      "No. Observations:                  29   AIC:                             143.3\n",
      "Df Residuals:                      27   BIC:                             146.0\n",
      "Df Model:                           1                                         \n",
      "Covariance Type:            nonrobust                                         \n",
      "==============================================================================\n",
      "                 coef    std err          t      P>|t|      [0.025      0.975]\n",
      "------------------------------------------------------------------------------\n",
      "Intercept      1.9919      0.719      2.769      0.010       0.516       3.468\n",
      "longitude      0.1061      0.042      2.501      0.019       0.019       0.193\n",
      "==============================================================================\n",
      "Omnibus:                       49.469   Durbin-Watson:                   2.001\n",
      "Prob(Omnibus):                  0.000   Jarque-Bera (JB):              255.581\n",
      "Skew:                           3.418   Prob(JB):                     3.17e-56\n",
      "Kurtosis:                      15.837   Cond. No.                         23.7\n",
      "==============================================================================\n",
      "\n",
      "Notes:\n",
      "[1] Standard Errors assume that the covariance matrix of the errors is correctly specified.\n"
     ]
    }
   ],
   "source": [
    "lm_long = ols(\"OBS_VALUE ~ longitude\", data=df_merged).fit()\n",
    "print(lm_long.summary())"
   ]
  },
  {
   "cell_type": "code",
   "execution_count": 91,
   "id": "6e4ef8044f69c3c",
   "metadata": {
    "ExecuteTime": {
     "end_time": "2024-11-26T16:54:07.360240Z",
     "start_time": "2024-11-26T16:54:07.352422Z"
    }
   },
   "outputs": [
    {
     "name": "stdout",
     "output_type": "stream",
     "text": [
      "                            OLS Regression Results                            \n",
      "==============================================================================\n",
      "Dep. Variable:              OBS_VALUE   R-squared:                       0.205\n",
      "Model:                            OLS   Adj. R-squared:                  0.144\n",
      "Method:                 Least Squares   F-statistic:                     3.362\n",
      "Date:                Tue, 03 Dec 2024   Prob (F-statistic):             0.0503\n",
      "Time:                        15:40:02   Log-Likelihood:                -69.342\n",
      "No. Observations:                  29   AIC:                             144.7\n",
      "Df Residuals:                      26   BIC:                             148.8\n",
      "Df Model:                           2                                         \n",
      "Covariance Type:            nonrobust                                         \n",
      "==============================================================================\n",
      "                 coef    std err          t      P>|t|      [0.025      0.975]\n",
      "------------------------------------------------------------------------------\n",
      "Intercept      4.8369      3.838      1.260      0.219      -3.053      12.727\n",
      "latitude      -0.0556      0.074     -0.755      0.457      -0.207       0.096\n",
      "longitude      0.1022      0.043      2.372      0.025       0.014       0.191\n",
      "==============================================================================\n",
      "Omnibus:                       45.716   Durbin-Watson:                   1.979\n",
      "Prob(Omnibus):                  0.000   Jarque-Bera (JB):              198.622\n",
      "Skew:                           3.175   Prob(JB):                     7.41e-44\n",
      "Kurtosis:                      14.138   Cond. No.                         386.\n",
      "==============================================================================\n",
      "\n",
      "Notes:\n",
      "[1] Standard Errors assume that the covariance matrix of the errors is correctly specified.\n"
     ]
    }
   ],
   "source": [
    "lm_comb = ols(\"OBS_VALUE ~ latitude + longitude\", data=df_merged).fit()\n",
    "print(lm_comb.summary())"
   ]
  },
  {
   "cell_type": "markdown",
   "id": "dd0633e1c0ab4ad9",
   "metadata": {},
   "source": [
    "You can use below slider to vary Longitude and Latitude values to see what Inflation Rate the OLS model predicts."
   ]
  },
  {
   "cell_type": "code",
   "execution_count": 92,
   "id": "7ff8a06cb023a1ba",
   "metadata": {
    "ExecuteTime": {
     "end_time": "2024-11-26T16:54:07.378035Z",
     "start_time": "2024-11-26T16:54:07.367622Z"
    }
   },
   "outputs": [
    {
     "data": {
      "application/vnd.jupyter.widget-view+json": {
       "model_id": "61fbf7f0cbf54b8e82b7561eeebc4f5a",
       "version_major": 2,
       "version_minor": 0
      },
      "text/plain": [
       "FloatSlider(value=50.299762724137935, continuous_update=False, description='Latitude:', max=64.963051, min=38.…"
      ]
     },
     "metadata": {},
     "output_type": "display_data"
    },
    {
     "data": {
      "application/vnd.jupyter.widget-view+json": {
       "model_id": "dab4c0b793564a20be48e20fa67e8c6d",
       "version_major": 2,
       "version_minor": 0
      },
      "text/plain": [
       "FloatSlider(value=11.850222724137932, continuous_update=False, description='Longitude:', max=35.243322, min=-1…"
      ]
     },
     "metadata": {},
     "output_type": "display_data"
    },
    {
     "data": {
      "application/vnd.jupyter.widget-view+json": {
       "model_id": "466dee326d3f49ca8cd01cf8f4402338",
       "version_major": 2,
       "version_minor": 0
      },
      "text/plain": [
       "Output()"
      ]
     },
     "metadata": {},
     "output_type": "display_data"
    }
   ],
   "source": [
    "latitude_slider = widgets.FloatSlider(\n",
    "    value=df_merged[\"latitude\"].mean(),\n",
    "    min=df_merged[\"latitude\"].min(),\n",
    "    max=df_merged[\"latitude\"].max(),\n",
    "    step=0.1,\n",
    "    description=\"Latitude:\",\n",
    "    continuous_update=False,\n",
    ")\n",
    "\n",
    "longitude_slider = widgets.FloatSlider(\n",
    "    value=df_merged[\"longitude\"].mean(),\n",
    "    min=df_merged[\"longitude\"].min(),\n",
    "    max=df_merged[\"longitude\"].max(),\n",
    "    step=0.1,\n",
    "    description=\"Longitude:\",\n",
    "    continuous_update=False,\n",
    ")\n",
    "\n",
    "output = widgets.Output()\n",
    "\n",
    "\n",
    "def update_prediction(change):\n",
    "    with output:\n",
    "        clear_output(wait=True)\n",
    "        lat = latitude_slider.value\n",
    "        lon = longitude_slider.value\n",
    "        input_df = pd.DataFrame({\"latitude\": [lat], \"longitude\": [lon]})\n",
    "        predicted_value = lm_comb.predict(input_df)\n",
    "        print(f\"Predicted OBS_VALUE (Inflation Rate): {predicted_value.iloc[0]:.2f}\")\n",
    "\n",
    "\n",
    "latitude_slider.observe(update_prediction, names=\"value\")\n",
    "longitude_slider.observe(update_prediction, names=\"value\")\n",
    "\n",
    "display(latitude_slider, longitude_slider, output)\n",
    "\n",
    "update_prediction(None)"
   ]
  },
  {
   "cell_type": "markdown",
   "id": "69622b9adbb8d876",
   "metadata": {},
   "source": [
    "The 3D Regression plane below visualizes the linear regression nicely."
   ]
  },
  {
   "cell_type": "code",
   "execution_count": 93,
   "id": "9e12bd0c7c657279",
   "metadata": {
    "ExecuteTime": {
     "end_time": "2024-11-26T16:54:07.411338Z",
     "start_time": "2024-11-26T16:54:07.385920Z"
    }
   },
   "outputs": [
    {
     "data": {
      "application/vnd.jupyter.widget-view+json": {
       "model_id": "31182142abe24acfbee08272159022b0",
       "version_major": 2,
       "version_minor": 0
      },
      "text/plain": [
       "Output()"
      ]
     },
     "metadata": {},
     "output_type": "display_data"
    }
   ],
   "source": [
    "output = widgets.Output()\n",
    "\n",
    "\n",
    "def update_plot(change):\n",
    "    with output:\n",
    "        clear_output(wait=True)\n",
    "        lat_range = np.linspace(df_merged[\"latitude\"].min(), df_merged[\"latitude\"].max(), 10)\n",
    "        lon_range = np.linspace(df_merged[\"longitude\"].min(), df_merged[\"longitude\"].max(), 10)\n",
    "        lat_grid, lon_grid = np.meshgrid(lat_range, lon_range)\n",
    "        grid_df = pd.DataFrame({\"latitude\": lat_grid.ravel(), \"longitude\": lon_grid.ravel()})\n",
    "        obs_pred = lm_comb.predict(grid_df)\n",
    "        obs_pred_grid = obs_pred.values.reshape(lat_grid.shape)\n",
    "        fig = go.Figure()\n",
    "        fig.add_trace(\n",
    "            go.Scatter3d(\n",
    "                x=df_merged[\"latitude\"],\n",
    "                y=df_merged[\"longitude\"],\n",
    "                z=df_merged[\"OBS_VALUE\"],\n",
    "                mode=\"markers\",\n",
    "                marker=dict(size=5, color=\"blue\"),\n",
    "                name=\"Data Points\",\n",
    "            )\n",
    "        )\n",
    "        fig.add_trace(\n",
    "            go.Surface(\n",
    "                x=lat_grid,\n",
    "                y=lon_grid,\n",
    "                z=obs_pred_grid,\n",
    "                colorscale=\"Viridis\",\n",
    "                opacity=0.6,\n",
    "                name=\"Regression Plane\",\n",
    "            )\n",
    "        )\n",
    "        fig.update_layout(\n",
    "            scene=dict(\n",
    "                xaxis_title=\"Latitude\",\n",
    "                yaxis_title=\"Longitude\",\n",
    "                zaxis_title=\"OBS_VALUE (Inflation Rate)\",\n",
    "            ),\n",
    "            title=\"3D Regression Plane and Data Points\",\n",
    "        )\n",
    "        fig.show()\n",
    "\n",
    "\n",
    "display(output)\n",
    "\n",
    "update_plot(None)"
   ]
  },
  {
   "cell_type": "markdown",
   "id": "8a1da09c",
   "metadata": {},
   "source": [
    "### Correlation Matrix"
   ]
  },
  {
   "cell_type": "code",
   "execution_count": 94,
   "id": "eb30b6a5",
   "metadata": {},
   "outputs": [],
   "source": [
    "df_inflation_grouped = (\n",
    "    df_inflation.groupby([\"Year\", \"Reference area\",])\n",
    "    .agg({\"OBS_VALUE\": \"mean\"})\n",
    "    .reset_index()\n",
    ")\n",
    "\n",
    "\n",
    "merged_data = pd.merge(\n",
    "    df_long_lat, df_inflation, left_on=\"name\", right_on=\"Reference area\"\n",
    ")"
   ]
  },
  {
   "cell_type": "markdown",
   "id": "41d01fea",
   "metadata": {},
   "source": [
    "The cell below allows you to select either a specific year or all years to view the corresponding correlation matrix."
   ]
  },
  {
   "cell_type": "code",
   "execution_count": 95,
   "id": "82ecc93d",
   "metadata": {},
   "outputs": [
    {
     "data": {
      "application/vnd.jupyter.widget-view+json": {
       "model_id": "be4a859dc69d4caf9a4b90410562551f",
       "version_major": 2,
       "version_minor": 0
      },
      "text/plain": [
       "Dropdown(description='Year:', options=('All Years', np.int32(2005), np.int32(2006), np.int32(2007), np.int32(2…"
      ]
     },
     "metadata": {},
     "output_type": "display_data"
    },
    {
     "data": {
      "application/vnd.jupyter.widget-view+json": {
       "model_id": "bfb425da6e4248c0a4bacb51c0908192",
       "version_major": 2,
       "version_minor": 0
      },
      "text/plain": [
       "Output()"
      ]
     },
     "metadata": {},
     "output_type": "display_data"
    }
   ],
   "source": [
    "import pandas as pd\n",
    "import matplotlib.pyplot as plt\n",
    "import seaborn as sns\n",
    "import ipywidgets as widgets\n",
    "from IPython.display import display, clear_output\n",
    "\n",
    "merged_data.sort_values(by=\"Year\", inplace=True)\n",
    "\n",
    "year_options = list(merged_data[\"Year\"].unique())\n",
    "year_options.insert(0, \"All Years\")  \n",
    "\n",
    "year_dropdown = widgets.Dropdown(\n",
    "    options=year_options,\n",
    "    description=\"Year:\",\n",
    "    value=year_options[0], \n",
    ")\n",
    "\n",
    "output = widgets.Output()\n",
    "\n",
    "def update_correlation_heatmap(change):\n",
    "    with output:\n",
    "        clear_output(wait=True)\n",
    "        selected_year = year_dropdown.value\n",
    "\n",
    "        if selected_year == \"All Years\":\n",
    "            filtered_data = merged_data\n",
    "        else:\n",
    "            filtered_data = merged_data[merged_data[\"Year\"] == selected_year]\n",
    "\n",
    "        if filtered_data.empty:\n",
    "            print(\"No data available for the selected year.\")\n",
    "        else:\n",
    "            correlation_matrix = filtered_data[[\"latitude\", \"longitude\", \"OBS_VALUE\"]].corr()\n",
    "\n",
    "            plt.figure(figsize=(8, 6))\n",
    "            sns.heatmap(\n",
    "                correlation_matrix,\n",
    "                annot=True,\n",
    "                fmt=\".3f\",\n",
    "                cmap=\"coolwarm\",\n",
    "                cbar_kws={'label': 'Correlation Coefficient'}\n",
    "            )\n",
    "            if selected_year == \"All Years\":\n",
    "                plt.title(\"Global Correlation between Latitude, Longitude, and Inflation Rate (All Years)\")\n",
    "            else:\n",
    "                plt.title(f\"Correlation between Latitude, Longitude, and Inflation Rate ({selected_year})\")\n",
    "            plt.show()\n",
    "\n",
    "year_dropdown.observe(update_correlation_heatmap, names=\"value\")\n",
    "\n",
    "display(year_dropdown, output)\n",
    "\n",
    "update_correlation_heatmap(None)\n"
   ]
  },
  {
   "cell_type": "markdown",
   "id": "9df1c5af84b026bf",
   "metadata": {},
   "source": [
    "## Discussion\n",
    "\n",
    "This regression analysis investigates the relationship between inflation rates (dependent variable) and geographical coordinates (latitude and longitude) for European countries. The model is based on Ordinary Least Squares (OLS) regression.\n",
    "\n",
    "### Key Findings\n",
    "- **R-squared (0.205)**: 20.5% of the variation in inflation rates is explained by the model, indicating limited explanatory power.\n",
    "- **Latitude**: Insignificant (p = 0.457). No strong north-south effect on inflation.\n",
    "- **Longitude**: Significant (p = 0.025). Suggests inflation rates increase moving eastward. This makes sense as Turkey has a very high inflation rate.\n",
    "\n",
    "### Model Diagnostics\n",
    "- **F-statistic (p = 0.0503)**: The model is borderline significant.\n",
    "\n",
    "### Implications\n",
    "Longitude's significance suggests potential east-west economic trends, while latitude appears to have no impact. This is further supported by the correlation matrix, where longitude consistently shows a stronger relationship with inflation rates across all years (except 2009). However, the low R-squared indicates that geographic data alone is insufficient to model inflation, emphasizing the need to incorporate other economic factors for a more comprehensive analysis.\n",
    "\n",
    "## Conclusion\n",
    "Geographical coordinates play a minor role in explaining inflation rates, with longitude showing some regional significance. Future models should integrate additional variables for better insight."
   ]
  }
 ],
 "metadata": {
  "kernelspec": {
   "display_name": ".venv",
   "language": "python",
   "name": "python3"
  },
  "language_info": {
   "codemirror_mode": {
    "name": "ipython",
    "version": 3
   },
   "file_extension": ".py",
   "mimetype": "text/x-python",
   "name": "python",
   "nbconvert_exporter": "python",
   "pygments_lexer": "ipython3",
   "version": "3.12.5"
  }
 },
 "nbformat": 4,
 "nbformat_minor": 5
}
