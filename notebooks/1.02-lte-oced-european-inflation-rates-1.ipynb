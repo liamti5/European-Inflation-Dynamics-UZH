{
 "cells": [
  {
   "metadata": {},
   "cell_type": "markdown",
   "source": "# Data Cleaning and Feature Generation of Inflation Data\n",
   "id": "c6c41bf30aebfd34"
  },
  {
   "cell_type": "code",
   "id": "initial_id",
   "metadata": {
    "collapsed": true,
    "ExecuteTime": {
     "end_time": "2024-12-09T13:33:54.123228Z",
     "start_time": "2024-12-09T13:33:54.119536Z"
    }
   },
   "source": [
    "import pandas as pd\n",
    "from pathlib import Path"
   ],
   "outputs": [],
   "execution_count": 9
  },
  {
   "metadata": {},
   "cell_type": "markdown",
   "source": "Data-source: https://data-explorer.oecd.org/vis?tm=inflation&pg=0&snb=50&vw=tb&df%5Bds%5D=dsDisseminateFinalDMZ&df%5Bid%5D=DSD_PRICES%40DF_PRICES_HICP&df%5Bag%5D=OECD.SDD.TPS&df%5Bvs%5D=1.0&dq=HRV%2BBGR%2BTUR%2BGBR%2BCHE%2BSVN%2BSWE%2BESP%2BSVK%2BPRT%2BPOL%2BNOR%2BNLD%2BLUX%2BLTU%2BLVA%2BIRL%2BITA%2BISL%2BHUN%2BGRC%2BDEU%2BFRA%2BFIN%2BEST%2BDNK%2BBEL%2BCZE%2BAUT.M.HICP.CPI.PA._T.N.GY&to%5BTIME_PERIOD%5D=false&pd=2000-01%2C2024-10",
   "id": "23f6a604eceac4cd"
  },
  {
   "metadata": {
    "ExecuteTime": {
     "end_time": "2024-12-09T13:33:55.016295Z",
     "start_time": "2024-12-09T13:33:54.966180Z"
    }
   },
   "cell_type": "code",
   "source": [
    "df = pd.read_csv(\"../data/external/oecd-european-inflation-rates-since-2000.csv\")\n",
    "df.head()"
   ],
   "id": "2cba5227a76a35ce",
   "outputs": [
    {
     "data": {
      "text/plain": [
       "  STRUCTURE                                 STRUCTURE_ID  \\\n",
       "0  DATAFLOW  OECD.SDD.TPS:DSD_PRICES@DF_PRICES_HICP(1.0)   \n",
       "1  DATAFLOW  OECD.SDD.TPS:DSD_PRICES@DF_PRICES_HICP(1.0)   \n",
       "2  DATAFLOW  OECD.SDD.TPS:DSD_PRICES@DF_PRICES_HICP(1.0)   \n",
       "3  DATAFLOW  OECD.SDD.TPS:DSD_PRICES@DF_PRICES_HICP(1.0)   \n",
       "4  DATAFLOW  OECD.SDD.TPS:DSD_PRICES@DF_PRICES_HICP(1.0)   \n",
       "\n",
       "                                      STRUCTURE_NAME ACTION REF_AREA  \\\n",
       "0  Eurostat harmonised index of consumer prices (...      I      SVN   \n",
       "1  Eurostat harmonised index of consumer prices (...      I      SVN   \n",
       "2  Eurostat harmonised index of consumer prices (...      I      SVN   \n",
       "3  Eurostat harmonised index of consumer prices (...      I      SVN   \n",
       "4  Eurostat harmonised index of consumer prices (...      I      SVN   \n",
       "\n",
       "  Reference area FREQ Frequency of observation METHODOLOGY  \\\n",
       "0       Slovenia    M                  Monthly        HICP   \n",
       "1       Slovenia    M                  Monthly        HICP   \n",
       "2       Slovenia    M                  Monthly        HICP   \n",
       "3       Slovenia    M                  Monthly        HICP   \n",
       "4       Slovenia    M                  Monthly        HICP   \n",
       "\n",
       "                                         Methodology  ... OBS_STATUS  \\\n",
       "0  Eurostat harmonised index of consumer prices (...  ...          A   \n",
       "1  Eurostat harmonised index of consumer prices (...  ...          A   \n",
       "2  Eurostat harmonised index of consumer prices (...  ...          A   \n",
       "3  Eurostat harmonised index of consumer prices (...  ...          A   \n",
       "4  Eurostat harmonised index of consumer prices (...  ...          A   \n",
       "\n",
       "  Observation status UNIT_MULT Unit multiplier BASE_PER Base period  \\\n",
       "0       Normal value       NaN             NaN      NaN         NaN   \n",
       "1       Normal value       NaN             NaN      NaN         NaN   \n",
       "2       Normal value       NaN             NaN      NaN         NaN   \n",
       "3       Normal value       NaN             NaN      NaN         NaN   \n",
       "4       Normal value       NaN             NaN      NaN         NaN   \n",
       "\n",
       "  DURABILITY Durability DECIMALS Decimals  \n",
       "0        NaN        NaN        2      Two  \n",
       "1        NaN        NaN        2      Two  \n",
       "2        NaN        NaN        2      Two  \n",
       "3        NaN        NaN        2      Two  \n",
       "4        NaN        NaN        2      Two  \n",
       "\n",
       "[5 rows x 34 columns]"
      ],
      "text/html": [
       "<div>\n",
       "<style scoped>\n",
       "    .dataframe tbody tr th:only-of-type {\n",
       "        vertical-align: middle;\n",
       "    }\n",
       "\n",
       "    .dataframe tbody tr th {\n",
       "        vertical-align: top;\n",
       "    }\n",
       "\n",
       "    .dataframe thead th {\n",
       "        text-align: right;\n",
       "    }\n",
       "</style>\n",
       "<table border=\"1\" class=\"dataframe\">\n",
       "  <thead>\n",
       "    <tr style=\"text-align: right;\">\n",
       "      <th></th>\n",
       "      <th>STRUCTURE</th>\n",
       "      <th>STRUCTURE_ID</th>\n",
       "      <th>STRUCTURE_NAME</th>\n",
       "      <th>ACTION</th>\n",
       "      <th>REF_AREA</th>\n",
       "      <th>Reference area</th>\n",
       "      <th>FREQ</th>\n",
       "      <th>Frequency of observation</th>\n",
       "      <th>METHODOLOGY</th>\n",
       "      <th>Methodology</th>\n",
       "      <th>...</th>\n",
       "      <th>OBS_STATUS</th>\n",
       "      <th>Observation status</th>\n",
       "      <th>UNIT_MULT</th>\n",
       "      <th>Unit multiplier</th>\n",
       "      <th>BASE_PER</th>\n",
       "      <th>Base period</th>\n",
       "      <th>DURABILITY</th>\n",
       "      <th>Durability</th>\n",
       "      <th>DECIMALS</th>\n",
       "      <th>Decimals</th>\n",
       "    </tr>\n",
       "  </thead>\n",
       "  <tbody>\n",
       "    <tr>\n",
       "      <th>0</th>\n",
       "      <td>DATAFLOW</td>\n",
       "      <td>OECD.SDD.TPS:DSD_PRICES@DF_PRICES_HICP(1.0)</td>\n",
       "      <td>Eurostat harmonised index of consumer prices (...</td>\n",
       "      <td>I</td>\n",
       "      <td>SVN</td>\n",
       "      <td>Slovenia</td>\n",
       "      <td>M</td>\n",
       "      <td>Monthly</td>\n",
       "      <td>HICP</td>\n",
       "      <td>Eurostat harmonised index of consumer prices (...</td>\n",
       "      <td>...</td>\n",
       "      <td>A</td>\n",
       "      <td>Normal value</td>\n",
       "      <td>NaN</td>\n",
       "      <td>NaN</td>\n",
       "      <td>NaN</td>\n",
       "      <td>NaN</td>\n",
       "      <td>NaN</td>\n",
       "      <td>NaN</td>\n",
       "      <td>2</td>\n",
       "      <td>Two</td>\n",
       "    </tr>\n",
       "    <tr>\n",
       "      <th>1</th>\n",
       "      <td>DATAFLOW</td>\n",
       "      <td>OECD.SDD.TPS:DSD_PRICES@DF_PRICES_HICP(1.0)</td>\n",
       "      <td>Eurostat harmonised index of consumer prices (...</td>\n",
       "      <td>I</td>\n",
       "      <td>SVN</td>\n",
       "      <td>Slovenia</td>\n",
       "      <td>M</td>\n",
       "      <td>Monthly</td>\n",
       "      <td>HICP</td>\n",
       "      <td>Eurostat harmonised index of consumer prices (...</td>\n",
       "      <td>...</td>\n",
       "      <td>A</td>\n",
       "      <td>Normal value</td>\n",
       "      <td>NaN</td>\n",
       "      <td>NaN</td>\n",
       "      <td>NaN</td>\n",
       "      <td>NaN</td>\n",
       "      <td>NaN</td>\n",
       "      <td>NaN</td>\n",
       "      <td>2</td>\n",
       "      <td>Two</td>\n",
       "    </tr>\n",
       "    <tr>\n",
       "      <th>2</th>\n",
       "      <td>DATAFLOW</td>\n",
       "      <td>OECD.SDD.TPS:DSD_PRICES@DF_PRICES_HICP(1.0)</td>\n",
       "      <td>Eurostat harmonised index of consumer prices (...</td>\n",
       "      <td>I</td>\n",
       "      <td>SVN</td>\n",
       "      <td>Slovenia</td>\n",
       "      <td>M</td>\n",
       "      <td>Monthly</td>\n",
       "      <td>HICP</td>\n",
       "      <td>Eurostat harmonised index of consumer prices (...</td>\n",
       "      <td>...</td>\n",
       "      <td>A</td>\n",
       "      <td>Normal value</td>\n",
       "      <td>NaN</td>\n",
       "      <td>NaN</td>\n",
       "      <td>NaN</td>\n",
       "      <td>NaN</td>\n",
       "      <td>NaN</td>\n",
       "      <td>NaN</td>\n",
       "      <td>2</td>\n",
       "      <td>Two</td>\n",
       "    </tr>\n",
       "    <tr>\n",
       "      <th>3</th>\n",
       "      <td>DATAFLOW</td>\n",
       "      <td>OECD.SDD.TPS:DSD_PRICES@DF_PRICES_HICP(1.0)</td>\n",
       "      <td>Eurostat harmonised index of consumer prices (...</td>\n",
       "      <td>I</td>\n",
       "      <td>SVN</td>\n",
       "      <td>Slovenia</td>\n",
       "      <td>M</td>\n",
       "      <td>Monthly</td>\n",
       "      <td>HICP</td>\n",
       "      <td>Eurostat harmonised index of consumer prices (...</td>\n",
       "      <td>...</td>\n",
       "      <td>A</td>\n",
       "      <td>Normal value</td>\n",
       "      <td>NaN</td>\n",
       "      <td>NaN</td>\n",
       "      <td>NaN</td>\n",
       "      <td>NaN</td>\n",
       "      <td>NaN</td>\n",
       "      <td>NaN</td>\n",
       "      <td>2</td>\n",
       "      <td>Two</td>\n",
       "    </tr>\n",
       "    <tr>\n",
       "      <th>4</th>\n",
       "      <td>DATAFLOW</td>\n",
       "      <td>OECD.SDD.TPS:DSD_PRICES@DF_PRICES_HICP(1.0)</td>\n",
       "      <td>Eurostat harmonised index of consumer prices (...</td>\n",
       "      <td>I</td>\n",
       "      <td>SVN</td>\n",
       "      <td>Slovenia</td>\n",
       "      <td>M</td>\n",
       "      <td>Monthly</td>\n",
       "      <td>HICP</td>\n",
       "      <td>Eurostat harmonised index of consumer prices (...</td>\n",
       "      <td>...</td>\n",
       "      <td>A</td>\n",
       "      <td>Normal value</td>\n",
       "      <td>NaN</td>\n",
       "      <td>NaN</td>\n",
       "      <td>NaN</td>\n",
       "      <td>NaN</td>\n",
       "      <td>NaN</td>\n",
       "      <td>NaN</td>\n",
       "      <td>2</td>\n",
       "      <td>Two</td>\n",
       "    </tr>\n",
       "  </tbody>\n",
       "</table>\n",
       "<p>5 rows × 34 columns</p>\n",
       "</div>"
      ]
     },
     "execution_count": 10,
     "metadata": {},
     "output_type": "execute_result"
    }
   ],
   "execution_count": 10
  },
  {
   "metadata": {},
   "cell_type": "markdown",
   "source": "Store a file with all countries that we have data for:",
   "id": "a6c3079fb1d16c92"
  },
  {
   "metadata": {
    "ExecuteTime": {
     "end_time": "2024-12-09T13:33:59.815212Z",
     "start_time": "2024-12-09T13:33:59.798905Z"
    }
   },
   "cell_type": "code",
   "source": [
    "df = df[[\"Reference area\", \"TIME_PERIOD\", \"OBS_VALUE\"]]\n",
    "df_countries = df.drop_duplicates(subset=[\"Reference area\"])[\"Reference area\"].to_frame()\n",
    "Path(\"../data/interim/\").mkdir(parents=True, exist_ok=True)\n",
    "df_countries.to_feather(\"../data/interim/countries-with-inflation-data.ftr\")"
   ],
   "id": "e52347100bfaad64",
   "outputs": [],
   "execution_count": 12
  },
  {
   "metadata": {},
   "cell_type": "markdown",
   "source": "For Switzerland we only have inlfation data since December 2005 (see notebooks/0.02-lte-oced-european-inflation-rates-1.ipynb). We will handle this by removing all time periods for which we have missing data, as 226 data points should still be enough for our use case. Also, not all countries have reported inflation data for October 2024, so we will omit this data point too.",
   "id": "d03b84eacb89baa2"
  },
  {
   "metadata": {
    "ExecuteTime": {
     "end_time": "2024-12-09T13:33:18.779591Z",
     "start_time": "2024-12-09T13:33:18.774619Z"
    }
   },
   "cell_type": "code",
   "source": [
    "df_clean = df[(df[\"TIME_PERIOD\"] >= \"2005-12\") & (df[\"TIME_PERIOD\"] <= \"2024-09\")]"
   ],
   "id": "77a8e456c1460788",
   "outputs": [],
   "execution_count": 4
  },
  {
   "metadata": {
    "ExecuteTime": {
     "end_time": "2024-12-09T13:33:18.823425Z",
     "start_time": "2024-12-09T13:33:18.810102Z"
    }
   },
   "cell_type": "code",
   "source": [
    "data_points_per_country = {}\n",
    "for country in df_countries[\"Reference area\"].tolist():\n",
    "    df_country = df_clean[df_clean[\"Reference area\"] == country]\n",
    "    data_points_per_country[country] = len(df_country)\n",
    "\n",
    "data_points_per_country = dict(sorted(data_points_per_country.items(), key=lambda item: item[1]))\n",
    "data_points_per_country"
   ],
   "id": "3b305616bf213ebb",
   "outputs": [
    {
     "data": {
      "text/plain": [
       "{'Slovenia': 226,\n",
       " 'Estonia': 226,\n",
       " 'Denmark': 226,\n",
       " 'Belgium': 226,\n",
       " 'Luxembourg': 226,\n",
       " 'Lithuania': 226,\n",
       " 'Sweden': 226,\n",
       " 'Poland': 226,\n",
       " 'Netherlands': 226,\n",
       " 'Austria': 226,\n",
       " 'Norway': 226,\n",
       " 'Ireland': 226,\n",
       " 'Slovak Republic': 226,\n",
       " 'Hungary': 226,\n",
       " 'Latvia': 226,\n",
       " 'Italy': 226,\n",
       " 'United Kingdom': 226,\n",
       " 'Greece': 226,\n",
       " 'Switzerland': 226,\n",
       " 'France': 226,\n",
       " 'Iceland': 226,\n",
       " 'Germany': 226,\n",
       " 'Finland': 226,\n",
       " 'Spain': 226,\n",
       " 'Czechia': 226,\n",
       " 'Türkiye': 226,\n",
       " 'Portugal': 226,\n",
       " 'Croatia': 226,\n",
       " 'Bulgaria': 226}"
      ]
     },
     "execution_count": 5,
     "metadata": {},
     "output_type": "execute_result"
    }
   ],
   "execution_count": 5
  },
  {
   "metadata": {
    "ExecuteTime": {
     "end_time": "2024-12-09T13:33:18.872381Z",
     "start_time": "2024-12-09T13:33:18.867865Z"
    }
   },
   "cell_type": "code",
   "source": "df_clean.head()",
   "id": "5ca0c77732bbee31",
   "outputs": [
    {
     "data": {
      "text/plain": [
       "   Reference area TIME_PERIOD  OBS_VALUE\n",
       "0        Slovenia     2020-08       -0.7\n",
       "1        Slovenia     2020-07       -0.3\n",
       "2        Slovenia     2020-06       -0.8\n",
       "54       Slovenia     2009-07       -0.6\n",
       "55       Slovenia     2009-06        0.2"
      ],
      "text/html": [
       "<div>\n",
       "<style scoped>\n",
       "    .dataframe tbody tr th:only-of-type {\n",
       "        vertical-align: middle;\n",
       "    }\n",
       "\n",
       "    .dataframe tbody tr th {\n",
       "        vertical-align: top;\n",
       "    }\n",
       "\n",
       "    .dataframe thead th {\n",
       "        text-align: right;\n",
       "    }\n",
       "</style>\n",
       "<table border=\"1\" class=\"dataframe\">\n",
       "  <thead>\n",
       "    <tr style=\"text-align: right;\">\n",
       "      <th></th>\n",
       "      <th>Reference area</th>\n",
       "      <th>TIME_PERIOD</th>\n",
       "      <th>OBS_VALUE</th>\n",
       "    </tr>\n",
       "  </thead>\n",
       "  <tbody>\n",
       "    <tr>\n",
       "      <th>0</th>\n",
       "      <td>Slovenia</td>\n",
       "      <td>2020-08</td>\n",
       "      <td>-0.7</td>\n",
       "    </tr>\n",
       "    <tr>\n",
       "      <th>1</th>\n",
       "      <td>Slovenia</td>\n",
       "      <td>2020-07</td>\n",
       "      <td>-0.3</td>\n",
       "    </tr>\n",
       "    <tr>\n",
       "      <th>2</th>\n",
       "      <td>Slovenia</td>\n",
       "      <td>2020-06</td>\n",
       "      <td>-0.8</td>\n",
       "    </tr>\n",
       "    <tr>\n",
       "      <th>54</th>\n",
       "      <td>Slovenia</td>\n",
       "      <td>2009-07</td>\n",
       "      <td>-0.6</td>\n",
       "    </tr>\n",
       "    <tr>\n",
       "      <th>55</th>\n",
       "      <td>Slovenia</td>\n",
       "      <td>2009-06</td>\n",
       "      <td>0.2</td>\n",
       "    </tr>\n",
       "  </tbody>\n",
       "</table>\n",
       "</div>"
      ]
     },
     "execution_count": 6,
     "metadata": {},
     "output_type": "execute_result"
    }
   ],
   "execution_count": 6
  },
  {
   "metadata": {
    "ExecuteTime": {
     "end_time": "2024-12-09T13:33:18.934639Z",
     "start_time": "2024-12-09T13:33:18.929290Z"
    }
   },
   "cell_type": "code",
   "source": "df_clean.to_feather(\"../data/interim/inflation-data-clean.ftr\")",
   "id": "de0c95586a8267f3",
   "outputs": [],
   "execution_count": 7
  }
 ],
 "metadata": {
  "kernelspec": {
   "display_name": "Python 3",
   "language": "python",
   "name": "python3"
  },
  "language_info": {
   "codemirror_mode": {
    "name": "ipython",
    "version": 2
   },
   "file_extension": ".py",
   "mimetype": "text/x-python",
   "name": "python",
   "nbconvert_exporter": "python",
   "pygments_lexer": "ipython2",
   "version": "2.7.6"
  }
 },
 "nbformat": 4,
 "nbformat_minor": 5
}
