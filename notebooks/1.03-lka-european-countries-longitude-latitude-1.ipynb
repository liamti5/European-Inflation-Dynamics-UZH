{
 "cells": [
  {
   "cell_type": "markdown",
   "metadata": {},
   "source": [
    "# Data Cleaning for Longitude / Latidude of European Countries\n"
   ]
  },
  {
   "cell_type": "code",
   "metadata": {
    "ExecuteTime": {
     "end_time": "2024-12-09T13:35:04.798309Z",
     "start_time": "2024-12-09T13:35:04.790820Z"
    }
   },
   "source": [
    "import pandas as pd\n",
    "from pathlib import Path"
   ],
   "outputs": [],
   "execution_count": 7
  },
  {
   "cell_type": "code",
   "metadata": {
    "ExecuteTime": {
     "end_time": "2024-12-09T13:35:04.863603Z",
     "start_time": "2024-12-09T13:35:04.841176Z"
    }
   },
   "source": [
    "# read european country longitude / latitude data into a dataframe\n",
    "european_countries = pd.read_feather(\"../data/interim/countries-with-inflation-data.ftr\").rename(\n",
    "    columns={\"Reference area\": \"name\"}\n",
    ")\n",
    "\n",
    "# make country names uniform\n",
    "country_name_changes = {\n",
    "    \"Turkey\": \"Türkiye\",\n",
    "    \"Czech Republic\": \"Czechia\",\n",
    "    \"Slovakia\": \"Slovak Republic\",\n",
    "}\n",
    "\n",
    "all_countries = pd.read_csv(\"../data/external/countries_lat_long_google.csv\")\n",
    "\n",
    "for old_name, new_name in country_name_changes.items():\n",
    "    all_countries[\"name\"] = all_countries[\"name\"].replace({old_name: new_name})\n",
    "\n",
    "# perform inner join between long-lat data and list of relevant european countries\n",
    "long_lat_df = pd.merge(european_countries, all_countries, on=\"name\", how=\"inner\")"
   ],
   "outputs": [],
   "execution_count": 8
  },
  {
   "cell_type": "code",
   "metadata": {
    "ExecuteTime": {
     "end_time": "2024-12-09T13:35:04.898244Z",
     "start_time": "2024-12-09T13:35:04.892942Z"
    }
   },
   "source": [
    "long_lat_df.head()"
   ],
   "outputs": [
    {
     "data": {
      "text/plain": [
       "         name country   latitude  longitude\n",
       "0    Slovenia      SI  46.151241  14.995463\n",
       "1     Estonia      EE  58.595272  25.013607\n",
       "2     Denmark      DK  56.263920   9.501785\n",
       "3     Belgium      BE  50.503887   4.469936\n",
       "4  Luxembourg      LU  49.815273   6.129583"
      ],
      "text/html": [
       "<div>\n",
       "<style scoped>\n",
       "    .dataframe tbody tr th:only-of-type {\n",
       "        vertical-align: middle;\n",
       "    }\n",
       "\n",
       "    .dataframe tbody tr th {\n",
       "        vertical-align: top;\n",
       "    }\n",
       "\n",
       "    .dataframe thead th {\n",
       "        text-align: right;\n",
       "    }\n",
       "</style>\n",
       "<table border=\"1\" class=\"dataframe\">\n",
       "  <thead>\n",
       "    <tr style=\"text-align: right;\">\n",
       "      <th></th>\n",
       "      <th>name</th>\n",
       "      <th>country</th>\n",
       "      <th>latitude</th>\n",
       "      <th>longitude</th>\n",
       "    </tr>\n",
       "  </thead>\n",
       "  <tbody>\n",
       "    <tr>\n",
       "      <th>0</th>\n",
       "      <td>Slovenia</td>\n",
       "      <td>SI</td>\n",
       "      <td>46.151241</td>\n",
       "      <td>14.995463</td>\n",
       "    </tr>\n",
       "    <tr>\n",
       "      <th>1</th>\n",
       "      <td>Estonia</td>\n",
       "      <td>EE</td>\n",
       "      <td>58.595272</td>\n",
       "      <td>25.013607</td>\n",
       "    </tr>\n",
       "    <tr>\n",
       "      <th>2</th>\n",
       "      <td>Denmark</td>\n",
       "      <td>DK</td>\n",
       "      <td>56.263920</td>\n",
       "      <td>9.501785</td>\n",
       "    </tr>\n",
       "    <tr>\n",
       "      <th>3</th>\n",
       "      <td>Belgium</td>\n",
       "      <td>BE</td>\n",
       "      <td>50.503887</td>\n",
       "      <td>4.469936</td>\n",
       "    </tr>\n",
       "    <tr>\n",
       "      <th>4</th>\n",
       "      <td>Luxembourg</td>\n",
       "      <td>LU</td>\n",
       "      <td>49.815273</td>\n",
       "      <td>6.129583</td>\n",
       "    </tr>\n",
       "  </tbody>\n",
       "</table>\n",
       "</div>"
      ]
     },
     "execution_count": 9,
     "metadata": {},
     "output_type": "execute_result"
    }
   ],
   "execution_count": 9
  },
  {
   "cell_type": "code",
   "metadata": {
    "ExecuteTime": {
     "end_time": "2024-12-09T13:35:04.964498Z",
     "start_time": "2024-12-09T13:35:04.959245Z"
    }
   },
   "source": [
    "# write to feather file\n",
    "Path(\"../data/interim/\").mkdir(parents=True, exist_ok=True)\n",
    "long_lat_df.to_feather(\"../data/interim/countries-with-long-lat-data.ftr\")"
   ],
   "outputs": [],
   "execution_count": 10
  }
 ],
 "metadata": {
  "kernelspec": {
   "display_name": "Python 3 (ipykernel)",
   "language": "python",
   "name": "python3"
  },
  "language_info": {
   "codemirror_mode": {
    "name": "ipython",
    "version": 3
   },
   "file_extension": ".py",
   "mimetype": "text/x-python",
   "name": "python",
   "nbconvert_exporter": "python",
   "pygments_lexer": "ipython3",
   "version": "3.12.5"
  }
 },
 "nbformat": 4,
 "nbformat_minor": 2
}
