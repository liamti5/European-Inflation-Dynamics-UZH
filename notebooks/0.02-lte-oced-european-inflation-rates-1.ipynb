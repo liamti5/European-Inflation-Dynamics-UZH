{
 "cells": [
  {
   "metadata": {},
   "cell_type": "markdown",
   "source": "# Data Exploration - Analyis of Infaltion Rates Data",
   "id": "7bfb314725a3c816"
  },
  {
   "cell_type": "code",
   "id": "initial_id",
   "metadata": {
    "collapsed": true,
    "ExecuteTime": {
     "end_time": "2024-11-09T13:17:18.238738Z",
     "start_time": "2024-11-09T13:17:18.234491Z"
    }
   },
   "source": "import pandas as pd",
   "outputs": [],
   "execution_count": 20
  },
  {
   "metadata": {},
   "cell_type": "markdown",
   "source": "Source: https://data-explorer.oecd.org/vis?tm=inflation&pg=0&snb=50&vw=tb&df%5Bds%5D=dsDisseminateFinalDMZ&df%5Bid%5D=DSD_PRICES%40DF_PRICES_HICP&df%5Bag%5D=OECD.SDD.TPS&df%5Bvs%5D=1.0&dq=HRV%2BBGR%2BTUR%2BGBR%2BCHE%2BSVN%2BSWE%2BESP%2BSVK%2BPRT%2BPOL%2BNOR%2BNLD%2BLUX%2BLTU%2BLVA%2BIRL%2BITA%2BISL%2BHUN%2BGRC%2BDEU%2BFRA%2BFIN%2BEST%2BDNK%2BBEL%2BCZE%2BAUT.M.HICP.CPI.PA._T.N.GY&to%5BTIME_PERIOD%5D=false&pd=2000-01%2C2024-10",
   "id": "23f6a604eceac4cd"
  },
  {
   "metadata": {
    "ExecuteTime": {
     "end_time": "2024-11-09T13:17:18.283921Z",
     "start_time": "2024-11-09T13:17:18.250128Z"
    }
   },
   "cell_type": "code",
   "source": [
    "df = pd.read_csv(\"../data/external/oecd-european-inflation-rates-since-2000.csv\")\n",
    "df.head()"
   ],
   "id": "2cba5227a76a35ce",
   "outputs": [
    {
     "data": {
      "text/plain": [
       "  STRUCTURE                                 STRUCTURE_ID  \\\n",
       "0  DATAFLOW  OECD.SDD.TPS:DSD_PRICES@DF_PRICES_HICP(1.0)   \n",
       "1  DATAFLOW  OECD.SDD.TPS:DSD_PRICES@DF_PRICES_HICP(1.0)   \n",
       "2  DATAFLOW  OECD.SDD.TPS:DSD_PRICES@DF_PRICES_HICP(1.0)   \n",
       "3  DATAFLOW  OECD.SDD.TPS:DSD_PRICES@DF_PRICES_HICP(1.0)   \n",
       "4  DATAFLOW  OECD.SDD.TPS:DSD_PRICES@DF_PRICES_HICP(1.0)   \n",
       "\n",
       "                                      STRUCTURE_NAME ACTION REF_AREA  \\\n",
       "0  Eurostat harmonised index of consumer prices (...      I      SVN   \n",
       "1  Eurostat harmonised index of consumer prices (...      I      SVN   \n",
       "2  Eurostat harmonised index of consumer prices (...      I      SVN   \n",
       "3  Eurostat harmonised index of consumer prices (...      I      SVN   \n",
       "4  Eurostat harmonised index of consumer prices (...      I      SVN   \n",
       "\n",
       "  Reference area FREQ Frequency of observation METHODOLOGY  \\\n",
       "0       Slovenia    M                  Monthly        HICP   \n",
       "1       Slovenia    M                  Monthly        HICP   \n",
       "2       Slovenia    M                  Monthly        HICP   \n",
       "3       Slovenia    M                  Monthly        HICP   \n",
       "4       Slovenia    M                  Monthly        HICP   \n",
       "\n",
       "                                         Methodology  ... OBS_STATUS  \\\n",
       "0  Eurostat harmonised index of consumer prices (...  ...          A   \n",
       "1  Eurostat harmonised index of consumer prices (...  ...          A   \n",
       "2  Eurostat harmonised index of consumer prices (...  ...          A   \n",
       "3  Eurostat harmonised index of consumer prices (...  ...          A   \n",
       "4  Eurostat harmonised index of consumer prices (...  ...          A   \n",
       "\n",
       "  Observation status UNIT_MULT Unit multiplier BASE_PER Base period  \\\n",
       "0       Normal value       NaN             NaN      NaN         NaN   \n",
       "1       Normal value       NaN             NaN      NaN         NaN   \n",
       "2       Normal value       NaN             NaN      NaN         NaN   \n",
       "3       Normal value       NaN             NaN      NaN         NaN   \n",
       "4       Normal value       NaN             NaN      NaN         NaN   \n",
       "\n",
       "  DURABILITY Durability DECIMALS Decimals  \n",
       "0        NaN        NaN        2      Two  \n",
       "1        NaN        NaN        2      Two  \n",
       "2        NaN        NaN        2      Two  \n",
       "3        NaN        NaN        2      Two  \n",
       "4        NaN        NaN        2      Two  \n",
       "\n",
       "[5 rows x 34 columns]"
      ],
      "text/html": [
       "<div>\n",
       "<style scoped>\n",
       "    .dataframe tbody tr th:only-of-type {\n",
       "        vertical-align: middle;\n",
       "    }\n",
       "\n",
       "    .dataframe tbody tr th {\n",
       "        vertical-align: top;\n",
       "    }\n",
       "\n",
       "    .dataframe thead th {\n",
       "        text-align: right;\n",
       "    }\n",
       "</style>\n",
       "<table border=\"1\" class=\"dataframe\">\n",
       "  <thead>\n",
       "    <tr style=\"text-align: right;\">\n",
       "      <th></th>\n",
       "      <th>STRUCTURE</th>\n",
       "      <th>STRUCTURE_ID</th>\n",
       "      <th>STRUCTURE_NAME</th>\n",
       "      <th>ACTION</th>\n",
       "      <th>REF_AREA</th>\n",
       "      <th>Reference area</th>\n",
       "      <th>FREQ</th>\n",
       "      <th>Frequency of observation</th>\n",
       "      <th>METHODOLOGY</th>\n",
       "      <th>Methodology</th>\n",
       "      <th>...</th>\n",
       "      <th>OBS_STATUS</th>\n",
       "      <th>Observation status</th>\n",
       "      <th>UNIT_MULT</th>\n",
       "      <th>Unit multiplier</th>\n",
       "      <th>BASE_PER</th>\n",
       "      <th>Base period</th>\n",
       "      <th>DURABILITY</th>\n",
       "      <th>Durability</th>\n",
       "      <th>DECIMALS</th>\n",
       "      <th>Decimals</th>\n",
       "    </tr>\n",
       "  </thead>\n",
       "  <tbody>\n",
       "    <tr>\n",
       "      <th>0</th>\n",
       "      <td>DATAFLOW</td>\n",
       "      <td>OECD.SDD.TPS:DSD_PRICES@DF_PRICES_HICP(1.0)</td>\n",
       "      <td>Eurostat harmonised index of consumer prices (...</td>\n",
       "      <td>I</td>\n",
       "      <td>SVN</td>\n",
       "      <td>Slovenia</td>\n",
       "      <td>M</td>\n",
       "      <td>Monthly</td>\n",
       "      <td>HICP</td>\n",
       "      <td>Eurostat harmonised index of consumer prices (...</td>\n",
       "      <td>...</td>\n",
       "      <td>A</td>\n",
       "      <td>Normal value</td>\n",
       "      <td>NaN</td>\n",
       "      <td>NaN</td>\n",
       "      <td>NaN</td>\n",
       "      <td>NaN</td>\n",
       "      <td>NaN</td>\n",
       "      <td>NaN</td>\n",
       "      <td>2</td>\n",
       "      <td>Two</td>\n",
       "    </tr>\n",
       "    <tr>\n",
       "      <th>1</th>\n",
       "      <td>DATAFLOW</td>\n",
       "      <td>OECD.SDD.TPS:DSD_PRICES@DF_PRICES_HICP(1.0)</td>\n",
       "      <td>Eurostat harmonised index of consumer prices (...</td>\n",
       "      <td>I</td>\n",
       "      <td>SVN</td>\n",
       "      <td>Slovenia</td>\n",
       "      <td>M</td>\n",
       "      <td>Monthly</td>\n",
       "      <td>HICP</td>\n",
       "      <td>Eurostat harmonised index of consumer prices (...</td>\n",
       "      <td>...</td>\n",
       "      <td>A</td>\n",
       "      <td>Normal value</td>\n",
       "      <td>NaN</td>\n",
       "      <td>NaN</td>\n",
       "      <td>NaN</td>\n",
       "      <td>NaN</td>\n",
       "      <td>NaN</td>\n",
       "      <td>NaN</td>\n",
       "      <td>2</td>\n",
       "      <td>Two</td>\n",
       "    </tr>\n",
       "    <tr>\n",
       "      <th>2</th>\n",
       "      <td>DATAFLOW</td>\n",
       "      <td>OECD.SDD.TPS:DSD_PRICES@DF_PRICES_HICP(1.0)</td>\n",
       "      <td>Eurostat harmonised index of consumer prices (...</td>\n",
       "      <td>I</td>\n",
       "      <td>SVN</td>\n",
       "      <td>Slovenia</td>\n",
       "      <td>M</td>\n",
       "      <td>Monthly</td>\n",
       "      <td>HICP</td>\n",
       "      <td>Eurostat harmonised index of consumer prices (...</td>\n",
       "      <td>...</td>\n",
       "      <td>A</td>\n",
       "      <td>Normal value</td>\n",
       "      <td>NaN</td>\n",
       "      <td>NaN</td>\n",
       "      <td>NaN</td>\n",
       "      <td>NaN</td>\n",
       "      <td>NaN</td>\n",
       "      <td>NaN</td>\n",
       "      <td>2</td>\n",
       "      <td>Two</td>\n",
       "    </tr>\n",
       "    <tr>\n",
       "      <th>3</th>\n",
       "      <td>DATAFLOW</td>\n",
       "      <td>OECD.SDD.TPS:DSD_PRICES@DF_PRICES_HICP(1.0)</td>\n",
       "      <td>Eurostat harmonised index of consumer prices (...</td>\n",
       "      <td>I</td>\n",
       "      <td>SVN</td>\n",
       "      <td>Slovenia</td>\n",
       "      <td>M</td>\n",
       "      <td>Monthly</td>\n",
       "      <td>HICP</td>\n",
       "      <td>Eurostat harmonised index of consumer prices (...</td>\n",
       "      <td>...</td>\n",
       "      <td>A</td>\n",
       "      <td>Normal value</td>\n",
       "      <td>NaN</td>\n",
       "      <td>NaN</td>\n",
       "      <td>NaN</td>\n",
       "      <td>NaN</td>\n",
       "      <td>NaN</td>\n",
       "      <td>NaN</td>\n",
       "      <td>2</td>\n",
       "      <td>Two</td>\n",
       "    </tr>\n",
       "    <tr>\n",
       "      <th>4</th>\n",
       "      <td>DATAFLOW</td>\n",
       "      <td>OECD.SDD.TPS:DSD_PRICES@DF_PRICES_HICP(1.0)</td>\n",
       "      <td>Eurostat harmonised index of consumer prices (...</td>\n",
       "      <td>I</td>\n",
       "      <td>SVN</td>\n",
       "      <td>Slovenia</td>\n",
       "      <td>M</td>\n",
       "      <td>Monthly</td>\n",
       "      <td>HICP</td>\n",
       "      <td>Eurostat harmonised index of consumer prices (...</td>\n",
       "      <td>...</td>\n",
       "      <td>A</td>\n",
       "      <td>Normal value</td>\n",
       "      <td>NaN</td>\n",
       "      <td>NaN</td>\n",
       "      <td>NaN</td>\n",
       "      <td>NaN</td>\n",
       "      <td>NaN</td>\n",
       "      <td>NaN</td>\n",
       "      <td>2</td>\n",
       "      <td>Two</td>\n",
       "    </tr>\n",
       "  </tbody>\n",
       "</table>\n",
       "<p>5 rows × 34 columns</p>\n",
       "</div>"
      ]
     },
     "execution_count": 21,
     "metadata": {},
     "output_type": "execute_result"
    }
   ],
   "execution_count": 21
  },
  {
   "metadata": {},
   "cell_type": "markdown",
   "source": "How many countires do we have data for?",
   "id": "a6c3079fb1d16c92"
  },
  {
   "metadata": {
    "ExecuteTime": {
     "end_time": "2024-11-09T13:17:18.310040Z",
     "start_time": "2024-11-09T13:17:18.306419Z"
    }
   },
   "cell_type": "code",
   "source": [
    "df = df[[\"Reference area\", \"TIME_PERIOD\", \"OBS_VALUE\"]]\n",
    "df = df[df[\"Reference area\"] != \"United States\"]\n",
    "print(len(df.drop_duplicates(subset=[\"Reference area\"])))\n",
    "df_countries = df.drop_duplicates(subset=[\"Reference area\"])[\"Reference area\"]"
   ],
   "id": "e52347100bfaad64",
   "outputs": [
    {
     "name": "stdout",
     "output_type": "stream",
     "text": [
      "29\n"
     ]
    }
   ],
   "execution_count": 22
  },
  {
   "metadata": {},
   "cell_type": "markdown",
   "source": "Since when do we have data? Is the data complete for all countries?",
   "id": "ac4b707f0e6a5aa"
  },
  {
   "metadata": {
    "ExecuteTime": {
     "end_time": "2024-11-09T13:17:18.387455Z",
     "start_time": "2024-11-09T13:17:18.375918Z"
    }
   },
   "cell_type": "code",
   "source": [
    "data_points_per_country = {}\n",
    "for country in df_countries.tolist():\n",
    "    df_country = df[df[\"Reference area\"] == country]\n",
    "    data_points_per_country[country] = len(df_country)\n",
    "\n",
    "data_points_per_country = dict(sorted(data_points_per_country.items(), key=lambda item: item[1]))\n",
    "data_points_per_country"
   ],
   "id": "f58bc3ecab112bcc",
   "outputs": [
    {
     "data": {
      "text/plain": [
       "{'Switzerland': 226,\n",
       " 'Denmark': 297,\n",
       " 'Sweden': 297,\n",
       " 'Poland': 297,\n",
       " 'Norway': 297,\n",
       " 'Hungary': 297,\n",
       " 'United Kingdom': 297,\n",
       " 'Iceland': 297,\n",
       " 'Czechia': 297,\n",
       " 'Türkiye': 297,\n",
       " 'Bulgaria': 297,\n",
       " 'Slovenia': 298,\n",
       " 'Estonia': 298,\n",
       " 'Belgium': 298,\n",
       " 'Luxembourg': 298,\n",
       " 'Lithuania': 298,\n",
       " 'Netherlands': 298,\n",
       " 'Austria': 298,\n",
       " 'Ireland': 298,\n",
       " 'Slovak Republic': 298,\n",
       " 'Latvia': 298,\n",
       " 'Italy': 298,\n",
       " 'Greece': 298,\n",
       " 'France': 298,\n",
       " 'Germany': 298,\n",
       " 'Finland': 298,\n",
       " 'Spain': 298,\n",
       " 'Portugal': 298,\n",
       " 'Croatia': 298}"
      ]
     },
     "execution_count": 23,
     "metadata": {},
     "output_type": "execute_result"
    }
   ],
   "execution_count": 23
  },
  {
   "metadata": {
    "ExecuteTime": {
     "end_time": "2024-11-09T13:17:18.486769Z",
     "start_time": "2024-11-09T13:17:18.482319Z"
    }
   },
   "cell_type": "code",
   "source": [
    "def get_min_max_date(df, country):\n",
    "    df_country = df[df[\"Reference area\"] == country]\n",
    "    return (df_country[\"TIME_PERIOD\"].min(), df_country[\"TIME_PERIOD\"].max())\n",
    "\n",
    "print(get_min_max_date(df, \"Switzerland\"))\n",
    "print(get_min_max_date(df, \"Denmark\"))\n",
    "print(get_min_max_date(df, \"Germany\"))\n"
   ],
   "id": "c82c0abd5fe9b90",
   "outputs": [
    {
     "name": "stdout",
     "output_type": "stream",
     "text": [
      "('2005-12', '2024-09')\n",
      "('2000-01', '2024-09')\n",
      "('2000-01', '2024-10')\n"
     ]
    }
   ],
   "execution_count": 24
  },
  {
   "metadata": {},
   "cell_type": "markdown",
   "source": "As we can see, we have less data points for Switzerland (only since December 2005). We will handle this by removing all time periods for which we have missing data, as 226 data points should still be enough for our use case. This step will be done in a later stage.",
   "id": "d03b84eacb89baa2"
  }
 ],
 "metadata": {
  "kernelspec": {
   "display_name": "Python 3",
   "language": "python",
   "name": "python3"
  },
  "language_info": {
   "codemirror_mode": {
    "name": "ipython",
    "version": 2
   },
   "file_extension": ".py",
   "mimetype": "text/x-python",
   "name": "python",
   "nbconvert_exporter": "python",
   "pygments_lexer": "ipython2",
   "version": "2.7.6"
  }
 },
 "nbformat": 4,
 "nbformat_minor": 5
}
