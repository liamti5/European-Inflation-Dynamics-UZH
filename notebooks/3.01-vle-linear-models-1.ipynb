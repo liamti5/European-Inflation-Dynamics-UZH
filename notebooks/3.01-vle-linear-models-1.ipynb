{
 "cells": [
  {
   "cell_type": "code",
   "execution_count": 2,
   "metadata": {},
   "outputs": [],
   "source": [
    "#!pip install --upgrade pip setuptools wheel\n",
    "#!pip install pyarrow\n",
    "\n",
    "import pandas as pd\n",
    "from statsmodels.formula.api import ols"
   ]
  },
  {
   "cell_type": "markdown",
   "metadata": {},
   "source": [
    "Aggregating inflation data and merging inflation and location data."
   ]
  },
  {
   "cell_type": "code",
   "execution_count": 3,
   "metadata": {},
   "outputs": [
    {
     "name": "stdout",
     "output_type": "stream",
     "text": [
      "<bound method NDFrame.head of      Reference area  OBS_VALUE\n",
      "0           Austria   2.634513\n",
      "1           Belgium   2.473894\n",
      "2          Bulgaria   3.686726\n",
      "3           Croatia   2.717257\n",
      "4           Czechia   3.402655\n",
      "5           Denmark   1.823894\n",
      "6           Estonia   4.445133\n",
      "7           Finland   2.020354\n",
      "8            France   1.902655\n",
      "9           Germany   2.208407\n",
      "10           Greece   1.868142\n",
      "11          Hungary   4.867257\n",
      "12          Iceland   4.505310\n",
      "13          Ireland   1.466814\n",
      "14            Italy   2.051327\n",
      "15           Latvia   4.308407\n",
      "16        Lithuania   4.122124\n",
      "17       Luxembourg   2.352655\n",
      "18      Netherlands   2.322566\n",
      "19           Norway   2.623451\n",
      "20           Poland   3.346018\n",
      "21         Portugal   1.898673\n",
      "22  Slovak Republic   3.049558\n",
      "23         Slovenia   2.471239\n",
      "24            Spain   2.111947\n",
      "25           Sweden   2.111947\n",
      "26      Switzerland   0.511504\n",
      "27          Türkiye  18.028319\n",
      "28   United Kingdom   2.904867>\n",
      "<bound method NDFrame.head of                name country   latitude  longitude\n",
      "0          Slovenia      SI  46.151241  14.995463\n",
      "1           Estonia      EE  58.595272  25.013607\n",
      "2           Denmark      DK  56.263920   9.501785\n",
      "3           Belgium      BE  50.503887   4.469936\n",
      "4        Luxembourg      LU  49.815273   6.129583\n",
      "5         Lithuania      LT  55.169438  23.881275\n",
      "6            Sweden      SE  60.128161  18.643501\n",
      "7            Poland      PL  51.919438  19.145136\n",
      "8       Netherlands      NL  52.132633   5.291266\n",
      "9           Austria      AT  47.516231  14.550072\n",
      "10           Norway      NO  60.472024   8.468946\n",
      "11          Ireland      IE  53.412910  -8.243890\n",
      "12  Slovak Republic      SK  48.669026  19.699024\n",
      "13          Hungary      HU  47.162494  19.503304\n",
      "14           Latvia      LV  56.879635  24.603189\n",
      "15            Italy      IT  41.871940  12.567380\n",
      "16   United Kingdom      GB  55.378051  -3.435973\n",
      "17           Greece      GR  39.074208  21.824312\n",
      "18      Switzerland      CH  46.818188   8.227512\n",
      "19           France      FR  46.227638   2.213749\n",
      "20          Iceland      IS  64.963051 -19.020835\n",
      "21          Germany      DE  51.165691  10.451526\n",
      "22          Finland      FI  61.924110  25.748151\n",
      "23            Spain      ES  40.463667  -3.749220\n",
      "24          Czechia      CZ  49.817492  15.472962\n",
      "25          Türkiye      TR  38.963745  35.243322\n",
      "26         Portugal      PT  39.399872  -8.224454\n",
      "27          Croatia      HR  45.100000  15.200000\n",
      "28         Bulgaria      BG  42.733883  25.485830>\n"
     ]
    }
   ],
   "source": [
    "inflation_data = pd.read_feather('../data/interim/inflation-data-clean.ftr')\n",
    "long_lat_data = pd.read_feather('../data/interim/countries-with-long-lat-data.ftr')\n",
    "\n",
    "inflation_data_aggregated = inflation_data.groupby('Reference area').agg({'OBS_VALUE': 'mean'}).reset_index()\n",
    "\n",
    "print(inflation_data_aggregated.head)\n",
    "print(long_lat_data.head)\n",
    "\n",
    "inflation_data_aggregated.rename(columns={'Reference area': 'name'}, inplace=True)\n",
    "\n",
    "merged_data = pd.merge(inflation_data_aggregated, long_lat_data, on= 'name', how= 'inner')\n",
    "\n"
   ]
  },
  {
   "cell_type": "markdown",
   "metadata": {},
   "source": [
    "Linear regressions of the inflation rate on longitude, latitude and combined regression on both."
   ]
  },
  {
   "cell_type": "code",
   "execution_count": 4,
   "metadata": {},
   "outputs": [
    {
     "name": "stdout",
     "output_type": "stream",
     "text": [
      "                            OLS Regression Results                            \n",
      "==============================================================================\n",
      "Dep. Variable:              OBS_VALUE   R-squared:                       0.034\n",
      "Model:                            OLS   Adj. R-squared:                 -0.002\n",
      "Method:                 Least Squares   F-statistic:                    0.9382\n",
      "Date:                Wed, 13 Nov 2024   Prob (F-statistic):              0.341\n",
      "Time:                        13:56:30   Log-Likelihood:                -72.182\n",
      "No. Observations:                  29   AIC:                             148.4\n",
      "Df Residuals:                      27   BIC:                             151.1\n",
      "Df Model:                           1                                         \n",
      "Covariance Type:            nonrobust                                         \n",
      "==============================================================================\n",
      "                 coef    std err          t      P>|t|      [0.025      0.975]\n",
      "------------------------------------------------------------------------------\n",
      "Intercept      7.1080      4.023      1.767      0.089      -1.146      15.362\n",
      "latitude      -0.0767      0.079     -0.969      0.341      -0.239       0.086\n",
      "==============================================================================\n",
      "Omnibus:                       53.462   Durbin-Watson:                   2.290\n",
      "Prob(Omnibus):                  0.000   Jarque-Bera (JB):              336.033\n",
      "Skew:                           3.676   Prob(JB):                     1.07e-73\n",
      "Kurtosis:                      17.968   Cond. No.                         364.\n",
      "==============================================================================\n",
      "\n",
      "Notes:\n",
      "[1] Standard Errors assume that the covariance matrix of the errors is correctly specified.\n"
     ]
    }
   ],
   "source": [
    "lm_lat = ols(\"OBS_VALUE ~ latitude\", data = merged_data).fit()\n",
    "\n",
    "print(lm_lat.summary())"
   ]
  },
  {
   "cell_type": "code",
   "execution_count": 5,
   "metadata": {},
   "outputs": [
    {
     "name": "stdout",
     "output_type": "stream",
     "text": [
      "                            OLS Regression Results                            \n",
      "==============================================================================\n",
      "Dep. Variable:              OBS_VALUE   R-squared:                       0.188\n",
      "Model:                            OLS   Adj. R-squared:                  0.158\n",
      "Method:                 Least Squares   F-statistic:                     6.255\n",
      "Date:                Wed, 13 Nov 2024   Prob (F-statistic):             0.0188\n",
      "Time:                        13:56:30   Log-Likelihood:                -69.656\n",
      "No. Observations:                  29   AIC:                             143.3\n",
      "Df Residuals:                      27   BIC:                             146.0\n",
      "Df Model:                           1                                         \n",
      "Covariance Type:            nonrobust                                         \n",
      "==============================================================================\n",
      "                 coef    std err          t      P>|t|      [0.025      0.975]\n",
      "------------------------------------------------------------------------------\n",
      "Intercept      1.9919      0.719      2.769      0.010       0.516       3.468\n",
      "longitude      0.1061      0.042      2.501      0.019       0.019       0.193\n",
      "==============================================================================\n",
      "Omnibus:                       49.469   Durbin-Watson:                   2.001\n",
      "Prob(Omnibus):                  0.000   Jarque-Bera (JB):              255.581\n",
      "Skew:                           3.418   Prob(JB):                     3.17e-56\n",
      "Kurtosis:                      15.837   Cond. No.                         23.7\n",
      "==============================================================================\n",
      "\n",
      "Notes:\n",
      "[1] Standard Errors assume that the covariance matrix of the errors is correctly specified.\n"
     ]
    }
   ],
   "source": [
    "lm_long = ols(\"OBS_VALUE ~ longitude\", data = merged_data).fit()\n",
    "\n",
    "print(lm_long.summary())"
   ]
  },
  {
   "cell_type": "code",
   "execution_count": 6,
   "metadata": {},
   "outputs": [
    {
     "name": "stdout",
     "output_type": "stream",
     "text": [
      "                            OLS Regression Results                            \n",
      "==============================================================================\n",
      "Dep. Variable:              OBS_VALUE   R-squared:                       0.205\n",
      "Model:                            OLS   Adj. R-squared:                  0.144\n",
      "Method:                 Least Squares   F-statistic:                     3.362\n",
      "Date:                Wed, 13 Nov 2024   Prob (F-statistic):             0.0503\n",
      "Time:                        13:56:30   Log-Likelihood:                -69.342\n",
      "No. Observations:                  29   AIC:                             144.7\n",
      "Df Residuals:                      26   BIC:                             148.8\n",
      "Df Model:                           2                                         \n",
      "Covariance Type:            nonrobust                                         \n",
      "==============================================================================\n",
      "                 coef    std err          t      P>|t|      [0.025      0.975]\n",
      "------------------------------------------------------------------------------\n",
      "Intercept      4.8369      3.838      1.260      0.219      -3.053      12.727\n",
      "latitude      -0.0556      0.074     -0.755      0.457      -0.207       0.096\n",
      "longitude      0.1022      0.043      2.372      0.025       0.014       0.191\n",
      "==============================================================================\n",
      "Omnibus:                       45.716   Durbin-Watson:                   1.979\n",
      "Prob(Omnibus):                  0.000   Jarque-Bera (JB):              198.622\n",
      "Skew:                           3.175   Prob(JB):                     7.41e-44\n",
      "Kurtosis:                      14.138   Cond. No.                         386.\n",
      "==============================================================================\n",
      "\n",
      "Notes:\n",
      "[1] Standard Errors assume that the covariance matrix of the errors is correctly specified.\n"
     ]
    }
   ],
   "source": [
    "lm_comb = ols(\"OBS_VALUE ~ latitude + longitude\", data=merged_data).fit()\n",
    "\n",
    "print(lm_comb.summary())"
   ]
  }
 ],
 "metadata": {
  "kernelspec": {
   "display_name": "venv",
   "language": "python",
   "name": "python3"
  },
  "language_info": {
   "codemirror_mode": {
    "name": "ipython",
    "version": 3
   },
   "file_extension": ".py",
   "mimetype": "text/x-python",
   "name": "python",
   "nbconvert_exporter": "python",
   "pygments_lexer": "ipython3",
   "version": "3.10.7"
  }
 },
 "nbformat": 4,
 "nbformat_minor": 2
}
