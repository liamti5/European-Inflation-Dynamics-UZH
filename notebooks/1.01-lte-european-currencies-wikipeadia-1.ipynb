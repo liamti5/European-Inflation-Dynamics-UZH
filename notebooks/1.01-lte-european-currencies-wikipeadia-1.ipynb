{
 "cells": [
  {
   "metadata": {},
   "cell_type": "markdown",
   "source": "# Data Cleaning and Feature Generation",
   "id": "841b35ec8fa2a9ee"
  },
  {
   "cell_type": "code",
   "id": "initial_id",
   "metadata": {
    "collapsed": true,
    "ExecuteTime": {
     "end_time": "2024-11-09T12:38:39.023096Z",
     "start_time": "2024-11-09T12:38:39.020309Z"
    }
   },
   "source": "import pandas as pd",
   "outputs": [],
   "execution_count": 22
  },
  {
   "metadata": {
    "ExecuteTime": {
     "end_time": "2024-11-09T12:38:39.032585Z",
     "start_time": "2024-11-09T12:38:39.028750Z"
    }
   },
   "cell_type": "code",
   "source": "df = pd.read_csv(\"../data/external/european-currencies-wikipeadia.csv\")",
   "id": "59101322d2bc2589",
   "outputs": [],
   "execution_count": 23
  },
  {
   "metadata": {},
   "cell_type": "markdown",
   "source": "We are only interested in the Country, Currency and the Currency Code. First we would like a file that stores all Countries that use the Euro. Secondly, we create a file that stores all different Currencies used in Europe.",
   "id": "787fe890d4883715"
  },
  {
   "metadata": {
    "ExecuteTime": {
     "end_time": "2024-11-09T12:38:39.044141Z",
     "start_time": "2024-11-09T12:38:39.040596Z"
    }
   },
   "cell_type": "code",
   "source": [
    "df_euro_countries = df[df[\"Code\"] == \"EUR\"][[\"Country\", \"Currency\", \"Code\"]]\n",
    "df_euro_countries.to_feather(\"../data/interim/countries-using-EUR.ftr\")"
   ],
   "id": "31133af95a15db0",
   "outputs": [],
   "execution_count": 24
  },
  {
   "metadata": {
    "ExecuteTime": {
     "end_time": "2024-11-09T12:38:39.054981Z",
     "start_time": "2024-11-09T12:38:39.051338Z"
    }
   },
   "cell_type": "code",
   "source": [
    "df_unique_currencies = df[[\"Country\", \"Currency\", \"Code\"]].drop_duplicates(subset=[\"Code\", \"Currency\"]).sort_values(by=\"Code\")\n",
    "df_unique_currencies.to_feather(\"../data/interim/european-currencies-unique.ftr\")"
   ],
   "id": "c064d11bcaa01131",
   "outputs": [],
   "execution_count": 25
  }
 ],
 "metadata": {
  "kernelspec": {
   "display_name": "Python 3",
   "language": "python",
   "name": "python3"
  },
  "language_info": {
   "codemirror_mode": {
    "name": "ipython",
    "version": 2
   },
   "file_extension": ".py",
   "mimetype": "text/x-python",
   "name": "python",
   "nbconvert_exporter": "python",
   "pygments_lexer": "ipython2",
   "version": "2.7.6"
  }
 },
 "nbformat": 4,
 "nbformat_minor": 5
}
