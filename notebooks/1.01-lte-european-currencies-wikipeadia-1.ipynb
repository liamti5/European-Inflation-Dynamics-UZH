{
 "cells": [
  {
   "metadata": {},
   "cell_type": "markdown",
   "source": "# Data Cleaning and Feature Generation",
   "id": "841b35ec8fa2a9ee"
  },
  {
   "cell_type": "code",
   "id": "initial_id",
   "metadata": {
    "collapsed": true,
    "ExecuteTime": {
     "end_time": "2024-12-09T13:32:29.704756Z",
     "start_time": "2024-12-09T13:32:29.698345Z"
    }
   },
   "source": [
    "import pandas as pd\n",
    "from pathlib import Path"
   ],
   "outputs": [],
   "execution_count": 6
  },
  {
   "metadata": {
    "ExecuteTime": {
     "end_time": "2024-12-09T13:29:35.248870Z",
     "start_time": "2024-12-09T13:29:35.245644Z"
    }
   },
   "cell_type": "code",
   "source": "df = pd.read_csv(\"../data/external/european-currencies-wikipeadia.csv\")",
   "id": "59101322d2bc2589",
   "outputs": [],
   "execution_count": 2
  },
  {
   "metadata": {},
   "cell_type": "markdown",
   "source": "We are only interested in the Country, Currency and the Currency Code. First we would like a file that stores all Countries that use the Euro. Secondly, we create a file that stores all different Currencies used in Europe.",
   "id": "787fe890d4883715"
  },
  {
   "metadata": {
    "ExecuteTime": {
     "end_time": "2024-12-09T13:32:32.695901Z",
     "start_time": "2024-12-09T13:32:32.672351Z"
    }
   },
   "cell_type": "code",
   "source": [
    "df_euro_countries = df[df[\"Code\"] == \"EUR\"][[\"Country\", \"Currency\", \"Code\"]]\n",
    "Path(\"../data/interim/\").mkdir(parents=True, exist_ok=True)\n",
    "df_euro_countries.to_feather(\"../data/interim/countries-using-EUR.ftr\")"
   ],
   "id": "31133af95a15db0",
   "outputs": [],
   "execution_count": 7
  },
  {
   "metadata": {
    "ExecuteTime": {
     "end_time": "2024-12-09T13:32:44.765993Z",
     "start_time": "2024-12-09T13:32:44.754319Z"
    }
   },
   "cell_type": "code",
   "source": [
    "df_unique_currencies = (\n",
    "    df[[\"Country\", \"Currency\", \"Code\"]]\n",
    "    .drop_duplicates(subset=[\"Code\", \"Currency\"])\n",
    "    .sort_values(by=\"Code\")\n",
    ")\n",
    "df_unique_currencies.to_feather(\"../data/interim/european-currencies-unique.ftr\")"
   ],
   "id": "c064d11bcaa01131",
   "outputs": [],
   "execution_count": 8
  }
 ],
 "metadata": {
  "kernelspec": {
   "display_name": "Python 3",
   "language": "python",
   "name": "python3"
  },
  "language_info": {
   "codemirror_mode": {
    "name": "ipython",
    "version": 2
   },
   "file_extension": ".py",
   "mimetype": "text/x-python",
   "name": "python",
   "nbconvert_exporter": "python",
   "pygments_lexer": "ipython2",
   "version": "2.7.6"
  }
 },
 "nbformat": 4,
 "nbformat_minor": 5
}
