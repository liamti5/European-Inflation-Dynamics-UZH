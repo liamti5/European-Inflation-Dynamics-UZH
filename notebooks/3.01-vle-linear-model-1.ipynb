{
 "cells": [
  {
   "metadata": {},
   "cell_type": "markdown",
   "source": ""
  },
  {
   "cell_type": "code",
   "metadata": {
    "ExecuteTime": {
     "end_time": "2024-11-14T15:53:51.376679Z",
     "start_time": "2024-11-14T15:53:51.371154Z"
    }
   },
   "source": [
    "import pandas as pd\n",
    "from statsmodels.formula.api import ols"
   ],
   "outputs": [],
   "execution_count": 9
  },
  {
   "cell_type": "markdown",
   "metadata": {},
   "source": [
    "Aggregating inflation data and merging inflation and location data."
   ]
  },
  {
   "cell_type": "code",
   "metadata": {
    "ExecuteTime": {
     "end_time": "2024-11-14T15:53:51.402187Z",
     "start_time": "2024-11-14T15:53:51.386241Z"
    }
   },
   "source": [
    "inflation_data = pd.read_feather(\"../data/processed/inflation-data-clean.ftr\")\n",
    "long_lat_data = pd.read_feather(\"../data/processed/countries-with-long-lat-data.ftr\")\n",
    "\n",
    "inflation_data_aggregated = (\n",
    "    inflation_data.groupby(\"Reference area\").agg({\"OBS_VALUE\": \"mean\"}).reset_index()\n",
    ")\n",
    "\n",
    "print(inflation_data_aggregated.head())\n",
    "print(long_lat_data.head())"
   ],
   "outputs": [
    {
     "name": "stdout",
     "output_type": "stream",
     "text": [
      "  Reference area  OBS_VALUE\n",
      "0        Austria   2.634513\n",
      "1        Belgium   2.473894\n",
      "2       Bulgaria   3.686726\n",
      "3        Croatia   2.717257\n",
      "4        Czechia   3.402655\n",
      "         name country   latitude  longitude\n",
      "0    Slovenia      SI  46.151241  14.995463\n",
      "1     Estonia      EE  58.595272  25.013607\n",
      "2     Denmark      DK  56.263920   9.501785\n",
      "3     Belgium      BE  50.503887   4.469936\n",
      "4  Luxembourg      LU  49.815273   6.129583\n"
     ]
    }
   ],
   "execution_count": 10
  },
  {
   "metadata": {
    "ExecuteTime": {
     "end_time": "2024-11-14T15:53:51.413706Z",
     "start_time": "2024-11-14T15:53:51.409767Z"
    }
   },
   "cell_type": "code",
   "source": [
    "inflation_data_aggregated.rename(columns={\"Reference area\": \"name\"}, inplace=True)\n",
    "\n",
    "merged_data = pd.merge(inflation_data_aggregated, long_lat_data, on=\"name\", how=\"inner\")"
   ],
   "outputs": [],
   "execution_count": 11
  },
  {
   "cell_type": "markdown",
   "metadata": {},
   "source": [
    "Linear regressions of the inflation rate on longitude, latitude and combined regression on both."
   ]
  },
  {
   "cell_type": "code",
   "metadata": {
    "ExecuteTime": {
     "end_time": "2024-11-14T15:53:51.437331Z",
     "start_time": "2024-11-14T15:53:51.423461Z"
    }
   },
   "source": [
    "lm_lat = ols(\"OBS_VALUE ~ latitude\", data=merged_data).fit()\n",
    "print(lm_lat.summary())"
   ],
   "outputs": [
    {
     "name": "stdout",
     "output_type": "stream",
     "text": [
      "                            OLS Regression Results                            \n",
      "==============================================================================\n",
      "Dep. Variable:              OBS_VALUE   R-squared:                       0.034\n",
      "Model:                            OLS   Adj. R-squared:                 -0.002\n",
      "Method:                 Least Squares   F-statistic:                    0.9382\n",
      "Date:                Thu, 14 Nov 2024   Prob (F-statistic):              0.341\n",
      "Time:                        16:53:51   Log-Likelihood:                -72.182\n",
      "No. Observations:                  29   AIC:                             148.4\n",
      "Df Residuals:                      27   BIC:                             151.1\n",
      "Df Model:                           1                                         \n",
      "Covariance Type:            nonrobust                                         \n",
      "==============================================================================\n",
      "                 coef    std err          t      P>|t|      [0.025      0.975]\n",
      "------------------------------------------------------------------------------\n",
      "Intercept      7.1080      4.023      1.767      0.089      -1.146      15.362\n",
      "latitude      -0.0767      0.079     -0.969      0.341      -0.239       0.086\n",
      "==============================================================================\n",
      "Omnibus:                       53.462   Durbin-Watson:                   2.290\n",
      "Prob(Omnibus):                  0.000   Jarque-Bera (JB):              336.033\n",
      "Skew:                           3.676   Prob(JB):                     1.07e-73\n",
      "Kurtosis:                      17.968   Cond. No.                         364.\n",
      "==============================================================================\n",
      "\n",
      "Notes:\n",
      "[1] Standard Errors assume that the covariance matrix of the errors is correctly specified.\n"
     ]
    }
   ],
   "execution_count": 12
  },
  {
   "cell_type": "code",
   "metadata": {
    "ExecuteTime": {
     "end_time": "2024-11-14T15:53:51.453028Z",
     "start_time": "2024-11-14T15:53:51.446409Z"
    }
   },
   "source": [
    "lm_long = ols(\"OBS_VALUE ~ longitude\", data=merged_data).fit()\n",
    "print(lm_long.summary())"
   ],
   "outputs": [
    {
     "name": "stdout",
     "output_type": "stream",
     "text": [
      "                            OLS Regression Results                            \n",
      "==============================================================================\n",
      "Dep. Variable:              OBS_VALUE   R-squared:                       0.188\n",
      "Model:                            OLS   Adj. R-squared:                  0.158\n",
      "Method:                 Least Squares   F-statistic:                     6.255\n",
      "Date:                Thu, 14 Nov 2024   Prob (F-statistic):             0.0188\n",
      "Time:                        16:53:51   Log-Likelihood:                -69.656\n",
      "No. Observations:                  29   AIC:                             143.3\n",
      "Df Residuals:                      27   BIC:                             146.0\n",
      "Df Model:                           1                                         \n",
      "Covariance Type:            nonrobust                                         \n",
      "==============================================================================\n",
      "                 coef    std err          t      P>|t|      [0.025      0.975]\n",
      "------------------------------------------------------------------------------\n",
      "Intercept      1.9919      0.719      2.769      0.010       0.516       3.468\n",
      "longitude      0.1061      0.042      2.501      0.019       0.019       0.193\n",
      "==============================================================================\n",
      "Omnibus:                       49.469   Durbin-Watson:                   2.001\n",
      "Prob(Omnibus):                  0.000   Jarque-Bera (JB):              255.581\n",
      "Skew:                           3.418   Prob(JB):                     3.17e-56\n",
      "Kurtosis:                      15.837   Cond. No.                         23.7\n",
      "==============================================================================\n",
      "\n",
      "Notes:\n",
      "[1] Standard Errors assume that the covariance matrix of the errors is correctly specified.\n"
     ]
    }
   ],
   "execution_count": 13
  },
  {
   "cell_type": "code",
   "metadata": {
    "ExecuteTime": {
     "end_time": "2024-11-14T15:53:51.467573Z",
     "start_time": "2024-11-14T15:53:51.459477Z"
    }
   },
   "source": [
    "lm_comb = ols(\"OBS_VALUE ~ latitude + longitude\", data=merged_data).fit()\n",
    "print(lm_comb.summary())"
   ],
   "outputs": [
    {
     "name": "stdout",
     "output_type": "stream",
     "text": [
      "                            OLS Regression Results                            \n",
      "==============================================================================\n",
      "Dep. Variable:              OBS_VALUE   R-squared:                       0.205\n",
      "Model:                            OLS   Adj. R-squared:                  0.144\n",
      "Method:                 Least Squares   F-statistic:                     3.362\n",
      "Date:                Thu, 14 Nov 2024   Prob (F-statistic):             0.0503\n",
      "Time:                        16:53:51   Log-Likelihood:                -69.342\n",
      "No. Observations:                  29   AIC:                             144.7\n",
      "Df Residuals:                      26   BIC:                             148.8\n",
      "Df Model:                           2                                         \n",
      "Covariance Type:            nonrobust                                         \n",
      "==============================================================================\n",
      "                 coef    std err          t      P>|t|      [0.025      0.975]\n",
      "------------------------------------------------------------------------------\n",
      "Intercept      4.8369      3.838      1.260      0.219      -3.053      12.727\n",
      "latitude      -0.0556      0.074     -0.755      0.457      -0.207       0.096\n",
      "longitude      0.1022      0.043      2.372      0.025       0.014       0.191\n",
      "==============================================================================\n",
      "Omnibus:                       45.716   Durbin-Watson:                   1.979\n",
      "Prob(Omnibus):                  0.000   Jarque-Bera (JB):              198.622\n",
      "Skew:                           3.175   Prob(JB):                     7.41e-44\n",
      "Kurtosis:                      14.138   Cond. No.                         386.\n",
      "==============================================================================\n",
      "\n",
      "Notes:\n",
      "[1] Standard Errors assume that the covariance matrix of the errors is correctly specified.\n"
     ]
    }
   ],
   "execution_count": 14
  }
 ],
 "metadata": {
  "kernelspec": {
   "display_name": "venv",
   "language": "python",
   "name": "python3"
  },
  "language_info": {
   "codemirror_mode": {
    "name": "ipython",
    "version": 3
   },
   "file_extension": ".py",
   "mimetype": "text/x-python",
   "name": "python",
   "nbconvert_exporter": "python",
   "pygments_lexer": "ipython3",
   "version": "3.10.7"
  }
 },
 "nbformat": 4,
 "nbformat_minor": 2
}
