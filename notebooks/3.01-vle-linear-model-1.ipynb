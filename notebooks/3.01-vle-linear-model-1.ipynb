{
 "cells": [
  {
   "metadata": {},
   "cell_type": "markdown",
   "source": ""
  },
  {
   "cell_type": "code",
   "metadata": {
    "ExecuteTime": {
     "end_time": "2024-11-13T13:33:08.394196Z",
     "start_time": "2024-11-13T13:32:57.921689Z"
    }
   },
   "source": [
    "import pandas as pd\n",
    "from statsmodels.formula.api import ols"
   ],
   "outputs": [],
   "execution_count": 2
  },
  {
   "cell_type": "markdown",
   "metadata": {},
   "source": [
    "Aggregating inflation data and merging inflation and location data."
   ]
  },
  {
   "cell_type": "code",
   "metadata": {
    "ExecuteTime": {
     "end_time": "2024-11-13T13:33:55.088051Z",
     "start_time": "2024-11-13T13:33:55.075958Z"
    }
   },
   "source": [
    "inflation_data = pd.read_feather(\"../data/interim/inflation-data-clean.ftr\")\n",
    "long_lat_data = pd.read_feather(\"../data/interim/countries-with-long-lat-data.ftr\")\n",
    "\n",
    "inflation_data_aggregated = (\n",
    "    inflation_data.groupby(\"Reference area\").agg({\"OBS_VALUE\": \"mean\"}).reset_index()\n",
    ")\n",
    "\n",
    "print(inflation_data_aggregated.head())\n",
    "print(long_lat_data.head())"
   ],
   "outputs": [
    {
     "name": "stdout",
     "output_type": "stream",
     "text": [
      "  Reference area  OBS_VALUE\n",
      "0        Austria   2.634513\n",
      "1        Belgium   2.473894\n",
      "2       Bulgaria   3.686726\n",
      "3        Croatia   2.717257\n",
      "4        Czechia   3.402655\n",
      "         name country   latitude  longitude\n",
      "0    Slovenia      SI  46.151241  14.995463\n",
      "1     Estonia      EE  58.595272  25.013607\n",
      "2     Denmark      DK  56.263920   9.501785\n",
      "3     Belgium      BE  50.503887   4.469936\n",
      "4  Luxembourg      LU  49.815273   6.129583\n"
     ]
    }
   ],
   "execution_count": 4
  },
  {
   "metadata": {
    "ExecuteTime": {
     "end_time": "2024-11-13T13:33:58.046300Z",
     "start_time": "2024-11-13T13:33:58.042174Z"
    }
   },
   "cell_type": "code",
   "source": [
    "inflation_data_aggregated.rename(columns={\"Reference area\": \"name\"}, inplace=True)\n",
    "\n",
    "merged_data = pd.merge(inflation_data_aggregated, long_lat_data, on=\"name\", how=\"inner\")"
   ],
   "outputs": [],
   "execution_count": 5
  },
  {
   "cell_type": "markdown",
   "metadata": {},
   "source": [
    "Linear regressions of the inflation rate on longitude, latitude and combined regression on both."
   ]
  },
  {
   "cell_type": "code",
   "metadata": {
    "ExecuteTime": {
     "end_time": "2024-11-13T13:35:52.727338Z",
     "start_time": "2024-11-13T13:35:52.699671Z"
    }
   },
   "source": [
    "lm_lat = ols(\"OBS_VALUE ~ latitude\", data=merged_data).fit()\n",
    "lm_lat.summary()"
   ],
   "outputs": [
    {
     "data": {
      "text/plain": [
       "<class 'statsmodels.iolib.summary.Summary'>\n",
       "\"\"\"\n",
       "                            OLS Regression Results                            \n",
       "==============================================================================\n",
       "Dep. Variable:              OBS_VALUE   R-squared:                       0.034\n",
       "Model:                            OLS   Adj. R-squared:                 -0.002\n",
       "Method:                 Least Squares   F-statistic:                    0.9382\n",
       "Date:                Wed, 13 Nov 2024   Prob (F-statistic):              0.341\n",
       "Time:                        14:35:52   Log-Likelihood:                -72.182\n",
       "No. Observations:                  29   AIC:                             148.4\n",
       "Df Residuals:                      27   BIC:                             151.1\n",
       "Df Model:                           1                                         \n",
       "Covariance Type:            nonrobust                                         \n",
       "==============================================================================\n",
       "                 coef    std err          t      P>|t|      [0.025      0.975]\n",
       "------------------------------------------------------------------------------\n",
       "Intercept      7.1080      4.023      1.767      0.089      -1.146      15.362\n",
       "latitude      -0.0767      0.079     -0.969      0.341      -0.239       0.086\n",
       "==============================================================================\n",
       "Omnibus:                       53.462   Durbin-Watson:                   2.290\n",
       "Prob(Omnibus):                  0.000   Jarque-Bera (JB):              336.033\n",
       "Skew:                           3.676   Prob(JB):                     1.07e-73\n",
       "Kurtosis:                      17.968   Cond. No.                         364.\n",
       "==============================================================================\n",
       "\n",
       "Notes:\n",
       "[1] Standard Errors assume that the covariance matrix of the errors is correctly specified.\n",
       "\"\"\""
      ],
      "text/html": [
       "<table class=\"simpletable\">\n",
       "<caption>OLS Regression Results</caption>\n",
       "<tr>\n",
       "  <th>Dep. Variable:</th>        <td>OBS_VALUE</td>    <th>  R-squared:         </th> <td>   0.034</td>\n",
       "</tr>\n",
       "<tr>\n",
       "  <th>Model:</th>                   <td>OLS</td>       <th>  Adj. R-squared:    </th> <td>  -0.002</td>\n",
       "</tr>\n",
       "<tr>\n",
       "  <th>Method:</th>             <td>Least Squares</td>  <th>  F-statistic:       </th> <td>  0.9382</td>\n",
       "</tr>\n",
       "<tr>\n",
       "  <th>Date:</th>             <td>Wed, 13 Nov 2024</td> <th>  Prob (F-statistic):</th>  <td> 0.341</td> \n",
       "</tr>\n",
       "<tr>\n",
       "  <th>Time:</th>                 <td>14:35:52</td>     <th>  Log-Likelihood:    </th> <td> -72.182</td>\n",
       "</tr>\n",
       "<tr>\n",
       "  <th>No. Observations:</th>      <td>    29</td>      <th>  AIC:               </th> <td>   148.4</td>\n",
       "</tr>\n",
       "<tr>\n",
       "  <th>Df Residuals:</th>          <td>    27</td>      <th>  BIC:               </th> <td>   151.1</td>\n",
       "</tr>\n",
       "<tr>\n",
       "  <th>Df Model:</th>              <td>     1</td>      <th>                     </th>     <td> </td>   \n",
       "</tr>\n",
       "<tr>\n",
       "  <th>Covariance Type:</th>      <td>nonrobust</td>    <th>                     </th>     <td> </td>   \n",
       "</tr>\n",
       "</table>\n",
       "<table class=\"simpletable\">\n",
       "<tr>\n",
       "      <td></td>         <th>coef</th>     <th>std err</th>      <th>t</th>      <th>P>|t|</th>  <th>[0.025</th>    <th>0.975]</th>  \n",
       "</tr>\n",
       "<tr>\n",
       "  <th>Intercept</th> <td>    7.1080</td> <td>    4.023</td> <td>    1.767</td> <td> 0.089</td> <td>   -1.146</td> <td>   15.362</td>\n",
       "</tr>\n",
       "<tr>\n",
       "  <th>latitude</th>  <td>   -0.0767</td> <td>    0.079</td> <td>   -0.969</td> <td> 0.341</td> <td>   -0.239</td> <td>    0.086</td>\n",
       "</tr>\n",
       "</table>\n",
       "<table class=\"simpletable\">\n",
       "<tr>\n",
       "  <th>Omnibus:</th>       <td>53.462</td> <th>  Durbin-Watson:     </th> <td>   2.290</td>\n",
       "</tr>\n",
       "<tr>\n",
       "  <th>Prob(Omnibus):</th> <td> 0.000</td> <th>  Jarque-Bera (JB):  </th> <td> 336.033</td>\n",
       "</tr>\n",
       "<tr>\n",
       "  <th>Skew:</th>          <td> 3.676</td> <th>  Prob(JB):          </th> <td>1.07e-73</td>\n",
       "</tr>\n",
       "<tr>\n",
       "  <th>Kurtosis:</th>      <td>17.968</td> <th>  Cond. No.          </th> <td>    364.</td>\n",
       "</tr>\n",
       "</table><br/><br/>Notes:<br/>[1] Standard Errors assume that the covariance matrix of the errors is correctly specified."
      ],
      "text/latex": "\\begin{center}\n\\begin{tabular}{lclc}\n\\toprule\n\\textbf{Dep. Variable:}    &    OBS\\_VALUE    & \\textbf{  R-squared:         } &     0.034   \\\\\n\\textbf{Model:}            &       OLS        & \\textbf{  Adj. R-squared:    } &    -0.002   \\\\\n\\textbf{Method:}           &  Least Squares   & \\textbf{  F-statistic:       } &    0.9382   \\\\\n\\textbf{Date:}             & Wed, 13 Nov 2024 & \\textbf{  Prob (F-statistic):} &    0.341    \\\\\n\\textbf{Time:}             &     14:35:52     & \\textbf{  Log-Likelihood:    } &   -72.182   \\\\\n\\textbf{No. Observations:} &          29      & \\textbf{  AIC:               } &     148.4   \\\\\n\\textbf{Df Residuals:}     &          27      & \\textbf{  BIC:               } &     151.1   \\\\\n\\textbf{Df Model:}         &           1      & \\textbf{                     } &             \\\\\n\\textbf{Covariance Type:}  &    nonrobust     & \\textbf{                     } &             \\\\\n\\bottomrule\n\\end{tabular}\n\\begin{tabular}{lcccccc}\n                   & \\textbf{coef} & \\textbf{std err} & \\textbf{t} & \\textbf{P$> |$t$|$} & \\textbf{[0.025} & \\textbf{0.975]}  \\\\\n\\midrule\n\\textbf{Intercept} &       7.1080  &        4.023     &     1.767  &         0.089        &       -1.146    &       15.362     \\\\\n\\textbf{latitude}  &      -0.0767  &        0.079     &    -0.969  &         0.341        &       -0.239    &        0.086     \\\\\n\\bottomrule\n\\end{tabular}\n\\begin{tabular}{lclc}\n\\textbf{Omnibus:}       & 53.462 & \\textbf{  Durbin-Watson:     } &    2.290  \\\\\n\\textbf{Prob(Omnibus):} &  0.000 & \\textbf{  Jarque-Bera (JB):  } &  336.033  \\\\\n\\textbf{Skew:}          &  3.676 & \\textbf{  Prob(JB):          } & 1.07e-73  \\\\\n\\textbf{Kurtosis:}      & 17.968 & \\textbf{  Cond. No.          } &     364.  \\\\\n\\bottomrule\n\\end{tabular}\n%\\caption{OLS Regression Results}\n\\end{center}\n\nNotes: \\newline\n [1] Standard Errors assume that the covariance matrix of the errors is correctly specified."
     },
     "execution_count": 6,
     "metadata": {},
     "output_type": "execute_result"
    }
   ],
   "execution_count": 6
  },
  {
   "cell_type": "code",
   "metadata": {
    "ExecuteTime": {
     "end_time": "2024-11-13T13:36:28.131578Z",
     "start_time": "2024-11-13T13:36:28.112552Z"
    }
   },
   "source": [
    "lm_long = ols(\"OBS_VALUE ~ longitude\", data=merged_data).fit()\n",
    "lm_long.summary()"
   ],
   "outputs": [
    {
     "data": {
      "text/plain": [
       "<class 'statsmodels.iolib.summary.Summary'>\n",
       "\"\"\"\n",
       "                            OLS Regression Results                            \n",
       "==============================================================================\n",
       "Dep. Variable:              OBS_VALUE   R-squared:                       0.188\n",
       "Model:                            OLS   Adj. R-squared:                  0.158\n",
       "Method:                 Least Squares   F-statistic:                     6.255\n",
       "Date:                Wed, 13 Nov 2024   Prob (F-statistic):             0.0188\n",
       "Time:                        14:36:28   Log-Likelihood:                -69.656\n",
       "No. Observations:                  29   AIC:                             143.3\n",
       "Df Residuals:                      27   BIC:                             146.0\n",
       "Df Model:                           1                                         \n",
       "Covariance Type:            nonrobust                                         \n",
       "==============================================================================\n",
       "                 coef    std err          t      P>|t|      [0.025      0.975]\n",
       "------------------------------------------------------------------------------\n",
       "Intercept      1.9919      0.719      2.769      0.010       0.516       3.468\n",
       "longitude      0.1061      0.042      2.501      0.019       0.019       0.193\n",
       "==============================================================================\n",
       "Omnibus:                       49.469   Durbin-Watson:                   2.001\n",
       "Prob(Omnibus):                  0.000   Jarque-Bera (JB):              255.581\n",
       "Skew:                           3.418   Prob(JB):                     3.17e-56\n",
       "Kurtosis:                      15.837   Cond. No.                         23.7\n",
       "==============================================================================\n",
       "\n",
       "Notes:\n",
       "[1] Standard Errors assume that the covariance matrix of the errors is correctly specified.\n",
       "\"\"\""
      ],
      "text/html": [
       "<table class=\"simpletable\">\n",
       "<caption>OLS Regression Results</caption>\n",
       "<tr>\n",
       "  <th>Dep. Variable:</th>        <td>OBS_VALUE</td>    <th>  R-squared:         </th> <td>   0.188</td>\n",
       "</tr>\n",
       "<tr>\n",
       "  <th>Model:</th>                   <td>OLS</td>       <th>  Adj. R-squared:    </th> <td>   0.158</td>\n",
       "</tr>\n",
       "<tr>\n",
       "  <th>Method:</th>             <td>Least Squares</td>  <th>  F-statistic:       </th> <td>   6.255</td>\n",
       "</tr>\n",
       "<tr>\n",
       "  <th>Date:</th>             <td>Wed, 13 Nov 2024</td> <th>  Prob (F-statistic):</th>  <td>0.0188</td> \n",
       "</tr>\n",
       "<tr>\n",
       "  <th>Time:</th>                 <td>14:36:28</td>     <th>  Log-Likelihood:    </th> <td> -69.656</td>\n",
       "</tr>\n",
       "<tr>\n",
       "  <th>No. Observations:</th>      <td>    29</td>      <th>  AIC:               </th> <td>   143.3</td>\n",
       "</tr>\n",
       "<tr>\n",
       "  <th>Df Residuals:</th>          <td>    27</td>      <th>  BIC:               </th> <td>   146.0</td>\n",
       "</tr>\n",
       "<tr>\n",
       "  <th>Df Model:</th>              <td>     1</td>      <th>                     </th>     <td> </td>   \n",
       "</tr>\n",
       "<tr>\n",
       "  <th>Covariance Type:</th>      <td>nonrobust</td>    <th>                     </th>     <td> </td>   \n",
       "</tr>\n",
       "</table>\n",
       "<table class=\"simpletable\">\n",
       "<tr>\n",
       "      <td></td>         <th>coef</th>     <th>std err</th>      <th>t</th>      <th>P>|t|</th>  <th>[0.025</th>    <th>0.975]</th>  \n",
       "</tr>\n",
       "<tr>\n",
       "  <th>Intercept</th> <td>    1.9919</td> <td>    0.719</td> <td>    2.769</td> <td> 0.010</td> <td>    0.516</td> <td>    3.468</td>\n",
       "</tr>\n",
       "<tr>\n",
       "  <th>longitude</th> <td>    0.1061</td> <td>    0.042</td> <td>    2.501</td> <td> 0.019</td> <td>    0.019</td> <td>    0.193</td>\n",
       "</tr>\n",
       "</table>\n",
       "<table class=\"simpletable\">\n",
       "<tr>\n",
       "  <th>Omnibus:</th>       <td>49.469</td> <th>  Durbin-Watson:     </th> <td>   2.001</td>\n",
       "</tr>\n",
       "<tr>\n",
       "  <th>Prob(Omnibus):</th> <td> 0.000</td> <th>  Jarque-Bera (JB):  </th> <td> 255.581</td>\n",
       "</tr>\n",
       "<tr>\n",
       "  <th>Skew:</th>          <td> 3.418</td> <th>  Prob(JB):          </th> <td>3.17e-56</td>\n",
       "</tr>\n",
       "<tr>\n",
       "  <th>Kurtosis:</th>      <td>15.837</td> <th>  Cond. No.          </th> <td>    23.7</td>\n",
       "</tr>\n",
       "</table><br/><br/>Notes:<br/>[1] Standard Errors assume that the covariance matrix of the errors is correctly specified."
      ],
      "text/latex": "\\begin{center}\n\\begin{tabular}{lclc}\n\\toprule\n\\textbf{Dep. Variable:}    &    OBS\\_VALUE    & \\textbf{  R-squared:         } &     0.188   \\\\\n\\textbf{Model:}            &       OLS        & \\textbf{  Adj. R-squared:    } &     0.158   \\\\\n\\textbf{Method:}           &  Least Squares   & \\textbf{  F-statistic:       } &     6.255   \\\\\n\\textbf{Date:}             & Wed, 13 Nov 2024 & \\textbf{  Prob (F-statistic):} &   0.0188    \\\\\n\\textbf{Time:}             &     14:36:28     & \\textbf{  Log-Likelihood:    } &   -69.656   \\\\\n\\textbf{No. Observations:} &          29      & \\textbf{  AIC:               } &     143.3   \\\\\n\\textbf{Df Residuals:}     &          27      & \\textbf{  BIC:               } &     146.0   \\\\\n\\textbf{Df Model:}         &           1      & \\textbf{                     } &             \\\\\n\\textbf{Covariance Type:}  &    nonrobust     & \\textbf{                     } &             \\\\\n\\bottomrule\n\\end{tabular}\n\\begin{tabular}{lcccccc}\n                   & \\textbf{coef} & \\textbf{std err} & \\textbf{t} & \\textbf{P$> |$t$|$} & \\textbf{[0.025} & \\textbf{0.975]}  \\\\\n\\midrule\n\\textbf{Intercept} &       1.9919  &        0.719     &     2.769  &         0.010        &        0.516    &        3.468     \\\\\n\\textbf{longitude} &       0.1061  &        0.042     &     2.501  &         0.019        &        0.019    &        0.193     \\\\\n\\bottomrule\n\\end{tabular}\n\\begin{tabular}{lclc}\n\\textbf{Omnibus:}       & 49.469 & \\textbf{  Durbin-Watson:     } &    2.001  \\\\\n\\textbf{Prob(Omnibus):} &  0.000 & \\textbf{  Jarque-Bera (JB):  } &  255.581  \\\\\n\\textbf{Skew:}          &  3.418 & \\textbf{  Prob(JB):          } & 3.17e-56  \\\\\n\\textbf{Kurtosis:}      & 15.837 & \\textbf{  Cond. No.          } &     23.7  \\\\\n\\bottomrule\n\\end{tabular}\n%\\caption{OLS Regression Results}\n\\end{center}\n\nNotes: \\newline\n [1] Standard Errors assume that the covariance matrix of the errors is correctly specified."
     },
     "execution_count": 7,
     "metadata": {},
     "output_type": "execute_result"
    }
   ],
   "execution_count": 7
  },
  {
   "cell_type": "code",
   "metadata": {
    "ExecuteTime": {
     "end_time": "2024-11-13T13:36:36.119321Z",
     "start_time": "2024-11-13T13:36:36.102239Z"
    }
   },
   "source": [
    "lm_comb = ols(\"OBS_VALUE ~ latitude + longitude\", data=merged_data).fit()\n",
    "lm_comb.summary()"
   ],
   "outputs": [
    {
     "data": {
      "text/plain": [
       "<class 'statsmodels.iolib.summary.Summary'>\n",
       "\"\"\"\n",
       "                            OLS Regression Results                            \n",
       "==============================================================================\n",
       "Dep. Variable:              OBS_VALUE   R-squared:                       0.205\n",
       "Model:                            OLS   Adj. R-squared:                  0.144\n",
       "Method:                 Least Squares   F-statistic:                     3.362\n",
       "Date:                Wed, 13 Nov 2024   Prob (F-statistic):             0.0503\n",
       "Time:                        14:36:36   Log-Likelihood:                -69.342\n",
       "No. Observations:                  29   AIC:                             144.7\n",
       "Df Residuals:                      26   BIC:                             148.8\n",
       "Df Model:                           2                                         \n",
       "Covariance Type:            nonrobust                                         \n",
       "==============================================================================\n",
       "                 coef    std err          t      P>|t|      [0.025      0.975]\n",
       "------------------------------------------------------------------------------\n",
       "Intercept      4.8369      3.838      1.260      0.219      -3.053      12.727\n",
       "latitude      -0.0556      0.074     -0.755      0.457      -0.207       0.096\n",
       "longitude      0.1022      0.043      2.372      0.025       0.014       0.191\n",
       "==============================================================================\n",
       "Omnibus:                       45.716   Durbin-Watson:                   1.979\n",
       "Prob(Omnibus):                  0.000   Jarque-Bera (JB):              198.622\n",
       "Skew:                           3.175   Prob(JB):                     7.41e-44\n",
       "Kurtosis:                      14.138   Cond. No.                         386.\n",
       "==============================================================================\n",
       "\n",
       "Notes:\n",
       "[1] Standard Errors assume that the covariance matrix of the errors is correctly specified.\n",
       "\"\"\""
      ],
      "text/html": [
       "<table class=\"simpletable\">\n",
       "<caption>OLS Regression Results</caption>\n",
       "<tr>\n",
       "  <th>Dep. Variable:</th>        <td>OBS_VALUE</td>    <th>  R-squared:         </th> <td>   0.205</td>\n",
       "</tr>\n",
       "<tr>\n",
       "  <th>Model:</th>                   <td>OLS</td>       <th>  Adj. R-squared:    </th> <td>   0.144</td>\n",
       "</tr>\n",
       "<tr>\n",
       "  <th>Method:</th>             <td>Least Squares</td>  <th>  F-statistic:       </th> <td>   3.362</td>\n",
       "</tr>\n",
       "<tr>\n",
       "  <th>Date:</th>             <td>Wed, 13 Nov 2024</td> <th>  Prob (F-statistic):</th>  <td>0.0503</td> \n",
       "</tr>\n",
       "<tr>\n",
       "  <th>Time:</th>                 <td>14:36:36</td>     <th>  Log-Likelihood:    </th> <td> -69.342</td>\n",
       "</tr>\n",
       "<tr>\n",
       "  <th>No. Observations:</th>      <td>    29</td>      <th>  AIC:               </th> <td>   144.7</td>\n",
       "</tr>\n",
       "<tr>\n",
       "  <th>Df Residuals:</th>          <td>    26</td>      <th>  BIC:               </th> <td>   148.8</td>\n",
       "</tr>\n",
       "<tr>\n",
       "  <th>Df Model:</th>              <td>     2</td>      <th>                     </th>     <td> </td>   \n",
       "</tr>\n",
       "<tr>\n",
       "  <th>Covariance Type:</th>      <td>nonrobust</td>    <th>                     </th>     <td> </td>   \n",
       "</tr>\n",
       "</table>\n",
       "<table class=\"simpletable\">\n",
       "<tr>\n",
       "      <td></td>         <th>coef</th>     <th>std err</th>      <th>t</th>      <th>P>|t|</th>  <th>[0.025</th>    <th>0.975]</th>  \n",
       "</tr>\n",
       "<tr>\n",
       "  <th>Intercept</th> <td>    4.8369</td> <td>    3.838</td> <td>    1.260</td> <td> 0.219</td> <td>   -3.053</td> <td>   12.727</td>\n",
       "</tr>\n",
       "<tr>\n",
       "  <th>latitude</th>  <td>   -0.0556</td> <td>    0.074</td> <td>   -0.755</td> <td> 0.457</td> <td>   -0.207</td> <td>    0.096</td>\n",
       "</tr>\n",
       "<tr>\n",
       "  <th>longitude</th> <td>    0.1022</td> <td>    0.043</td> <td>    2.372</td> <td> 0.025</td> <td>    0.014</td> <td>    0.191</td>\n",
       "</tr>\n",
       "</table>\n",
       "<table class=\"simpletable\">\n",
       "<tr>\n",
       "  <th>Omnibus:</th>       <td>45.716</td> <th>  Durbin-Watson:     </th> <td>   1.979</td>\n",
       "</tr>\n",
       "<tr>\n",
       "  <th>Prob(Omnibus):</th> <td> 0.000</td> <th>  Jarque-Bera (JB):  </th> <td> 198.622</td>\n",
       "</tr>\n",
       "<tr>\n",
       "  <th>Skew:</th>          <td> 3.175</td> <th>  Prob(JB):          </th> <td>7.41e-44</td>\n",
       "</tr>\n",
       "<tr>\n",
       "  <th>Kurtosis:</th>      <td>14.138</td> <th>  Cond. No.          </th> <td>    386.</td>\n",
       "</tr>\n",
       "</table><br/><br/>Notes:<br/>[1] Standard Errors assume that the covariance matrix of the errors is correctly specified."
      ],
      "text/latex": "\\begin{center}\n\\begin{tabular}{lclc}\n\\toprule\n\\textbf{Dep. Variable:}    &    OBS\\_VALUE    & \\textbf{  R-squared:         } &     0.205   \\\\\n\\textbf{Model:}            &       OLS        & \\textbf{  Adj. R-squared:    } &     0.144   \\\\\n\\textbf{Method:}           &  Least Squares   & \\textbf{  F-statistic:       } &     3.362   \\\\\n\\textbf{Date:}             & Wed, 13 Nov 2024 & \\textbf{  Prob (F-statistic):} &   0.0503    \\\\\n\\textbf{Time:}             &     14:36:36     & \\textbf{  Log-Likelihood:    } &   -69.342   \\\\\n\\textbf{No. Observations:} &          29      & \\textbf{  AIC:               } &     144.7   \\\\\n\\textbf{Df Residuals:}     &          26      & \\textbf{  BIC:               } &     148.8   \\\\\n\\textbf{Df Model:}         &           2      & \\textbf{                     } &             \\\\\n\\textbf{Covariance Type:}  &    nonrobust     & \\textbf{                     } &             \\\\\n\\bottomrule\n\\end{tabular}\n\\begin{tabular}{lcccccc}\n                   & \\textbf{coef} & \\textbf{std err} & \\textbf{t} & \\textbf{P$> |$t$|$} & \\textbf{[0.025} & \\textbf{0.975]}  \\\\\n\\midrule\n\\textbf{Intercept} &       4.8369  &        3.838     &     1.260  &         0.219        &       -3.053    &       12.727     \\\\\n\\textbf{latitude}  &      -0.0556  &        0.074     &    -0.755  &         0.457        &       -0.207    &        0.096     \\\\\n\\textbf{longitude} &       0.1022  &        0.043     &     2.372  &         0.025        &        0.014    &        0.191     \\\\\n\\bottomrule\n\\end{tabular}\n\\begin{tabular}{lclc}\n\\textbf{Omnibus:}       & 45.716 & \\textbf{  Durbin-Watson:     } &    1.979  \\\\\n\\textbf{Prob(Omnibus):} &  0.000 & \\textbf{  Jarque-Bera (JB):  } &  198.622  \\\\\n\\textbf{Skew:}          &  3.175 & \\textbf{  Prob(JB):          } & 7.41e-44  \\\\\n\\textbf{Kurtosis:}      & 14.138 & \\textbf{  Cond. No.          } &     386.  \\\\\n\\bottomrule\n\\end{tabular}\n%\\caption{OLS Regression Results}\n\\end{center}\n\nNotes: \\newline\n [1] Standard Errors assume that the covariance matrix of the errors is correctly specified."
     },
     "execution_count": 8,
     "metadata": {},
     "output_type": "execute_result"
    }
   ],
   "execution_count": 8
  }
 ],
 "metadata": {
  "kernelspec": {
   "display_name": "venv",
   "language": "python",
   "name": "python3"
  },
  "language_info": {
   "codemirror_mode": {
    "name": "ipython",
    "version": 3
   },
   "file_extension": ".py",
   "mimetype": "text/x-python",
   "name": "python",
   "nbconvert_exporter": "python",
   "pygments_lexer": "ipython3",
   "version": "3.10.7"
  }
 },
 "nbformat": 4,
 "nbformat_minor": 2
}
